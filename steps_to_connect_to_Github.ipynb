{
  "nbformat": 4,
  "nbformat_minor": 0,
  "metadata": {
    "colab": {
      "provenance": [],
      "authorship_tag": "ABX9TyPXbBNcYWFeKeM6J5mQPLj8",
      "include_colab_link": true
    },
    "kernelspec": {
      "name": "python3",
      "display_name": "Python 3"
    },
    "language_info": {
      "name": "python"
    }
  },
  "cells": [
    {
      "cell_type": "markdown",
      "metadata": {
        "id": "view-in-github",
        "colab_type": "text"
      },
      "source": [
        "<a href=\"https://colab.research.google.com/github/Mentor-Sahr/AOTS_ML_SP/blob/master/steps_to_connect_to_Github.ipynb\" target=\"_parent\"><img src=\"https://colab.research.google.com/assets/colab-badge.svg\" alt=\"Open In Colab\"/></a>"
      ]
    },
    {
      "cell_type": "markdown",
      "source": [
        "# Clone an existing Git repository"
      ],
      "metadata": {
        "id": "MSTHpolJ5lWo"
      }
    },
    {
      "cell_type": "markdown",
      "source": [
        "You’ll need your GitHub access token before cloning your GitHub repository. Also extract set of variables from your GitHub account.\n",
        "1. username — Your GitHub username. In our case, its MohammedIsmailP.\n",
        "2. repository — Created repository. In our case, its titanic.\n",
        "3. git_token — Your personal access token (Do not share to public).\n",
        "\n",
        "`git clone https://{git_token}@github.com/{username}/{repository}`\n"
      ],
      "metadata": {
        "id": "2X9mY5a-9_I3"
      }
    },
    {
      "cell_type": "code",
      "execution_count": null,
      "metadata": {
        "colab": {
          "base_uri": "https://localhost:8080/"
        },
        "id": "r9H5RyqAgnIF",
        "outputId": "8865c6a4-6c65-4097-cc31-10d810e11b82"
      },
      "outputs": [
        {
          "output_type": "stream",
          "name": "stdout",
          "text": [
            "Mounted at /content/drive\n"
          ]
        }
      ],
      "source": [
        "from google.colab import drive\n",
        "drive.mount('/content/drive')\n"
      ]
    },
    {
      "cell_type": "code",
      "source": [
        "%cd /content/drive/MyDrive/Github/"
      ],
      "metadata": {
        "colab": {
          "base_uri": "https://localhost:8080/"
        },
        "id": "y0AshLF5g--D",
        "outputId": "3c2e4244-845e-41e6-bf3b-fe4c34265347"
      },
      "execution_count": null,
      "outputs": [
        {
          "output_type": "stream",
          "name": "stdout",
          "text": [
            "/content/drive/MyDrive/Github\n"
          ]
        }
      ]
    },
    {
      "cell_type": "code",
      "source": [
        "%pwd"
      ],
      "metadata": {
        "colab": {
          "base_uri": "https://localhost:8080/",
          "height": 35
        },
        "id": "XBKWgeaahxGZ",
        "outputId": "d49079fb-b7fd-4890-e981-e1e496f10bcb"
      },
      "execution_count": null,
      "outputs": [
        {
          "output_type": "execute_result",
          "data": {
            "text/plain": [
              "'/content/drive/MyDrive/Github'"
            ],
            "application/vnd.google.colaboratory.intrinsic+json": {
              "type": "string"
            }
          },
          "metadata": {},
          "execution_count": 6
        }
      ]
    },
    {
      "cell_type": "code",
      "source": [
        "!git clone https://colab_connect@github.com/Mentor-Sahr/AOTS_ML_SP.git"
      ],
      "metadata": {
        "colab": {
          "base_uri": "https://localhost:8080/"
        },
        "id": "wFnFM6yUhyf0",
        "outputId": "f7dd2c5f-e2f4-48cb-b004-c1ff0bc3b81a"
      },
      "execution_count": null,
      "outputs": [
        {
          "output_type": "stream",
          "name": "stdout",
          "text": [
            "Cloning into 'AOTS_ML_SP'...\n",
            "remote: Enumerating objects: 3, done.\u001b[K\n",
            "remote: Counting objects: 100% (3/3), done.\u001b[K\n",
            "remote: Total 3 (delta 0), reused 3 (delta 0), pack-reused 0\u001b[K\n",
            "Unpacking objects: 100% (3/3), done.\n"
          ]
        }
      ]
    },
    {
      "cell_type": "code",
      "source": [
        "%ls"
      ],
      "metadata": {
        "colab": {
          "base_uri": "https://localhost:8080/"
        },
        "id": "FMb2-fJukshE",
        "outputId": "adc09353-4273-48e0-c018-bc673b121760"
      },
      "execution_count": null,
      "outputs": [
        {
          "output_type": "stream",
          "name": "stdout",
          "text": [
            "\u001b[0m\u001b[01;34mAOTS_ML_SP\u001b[0m/\n"
          ]
        }
      ]
    },
    {
      "cell_type": "code",
      "source": [
        "%cd AOTS_ML_SP/\n"
      ],
      "metadata": {
        "colab": {
          "base_uri": "https://localhost:8080/"
        },
        "id": "_cPI12uKkv81",
        "outputId": "5b8eab62-0e33-4d86-fbfa-294b3dc5caab"
      },
      "execution_count": null,
      "outputs": [
        {
          "output_type": "stream",
          "name": "stdout",
          "text": [
            "/content/drive/MyDrive/Github/AOTS_ML_SP\n"
          ]
        }
      ]
    },
    {
      "cell_type": "code",
      "source": [
        "%ls -a"
      ],
      "metadata": {
        "colab": {
          "base_uri": "https://localhost:8080/"
        },
        "id": "JlC3KFSAk4nM",
        "outputId": "268d6227-3f10-4c96-f72c-55e91accb733"
      },
      "execution_count": null,
      "outputs": [
        {
          "output_type": "stream",
          "name": "stdout",
          "text": [
            "\u001b[0m\u001b[01;34m.git\u001b[0m/  git_sample.md\n"
          ]
        }
      ]
    },
    {
      "cell_type": "code",
      "source": [
        "!git status"
      ],
      "metadata": {
        "colab": {
          "base_uri": "https://localhost:8080/"
        },
        "id": "gwpJD375k7YU",
        "outputId": "0ac177e1-97db-4b30-d235-9c5013831984"
      },
      "execution_count": null,
      "outputs": [
        {
          "output_type": "stream",
          "name": "stdout",
          "text": [
            "On branch master\n",
            "Your branch is up to date with 'origin/master'.\n",
            "\n",
            "nothing to commit, working tree clean\n"
          ]
        }
      ]
    },
    {
      "cell_type": "code",
      "source": [
        "!git remote -v"
      ],
      "metadata": {
        "colab": {
          "base_uri": "https://localhost:8080/"
        },
        "id": "eEgLoX4t37nO",
        "outputId": "8c9378cc-49b9-4a98-d82a-68e770c5f3c6"
      },
      "execution_count": null,
      "outputs": [
        {
          "output_type": "stream",
          "name": "stdout",
          "text": [
            "origin\thttps://colab_connect@github.com/Mentor-Sahr/AOTS_ML_SP.git (fetch)\n",
            "origin\thttps://colab_connect@github.com/Mentor-Sahr/AOTS_ML_SP.git (push)\n"
          ]
        }
      ]
    },
    {
      "cell_type": "code",
      "source": [
        "!git --version\n"
      ],
      "metadata": {
        "id": "hnT6yVBmBe_C",
        "colab": {
          "base_uri": "https://localhost:8080/"
        },
        "outputId": "cd772804-bb66-4b0d-b997-25e39a7b82d1"
      },
      "execution_count": 3,
      "outputs": [
        {
          "output_type": "stream",
          "name": "stdout",
          "text": [
            "git version 2.17.1\n"
          ]
        }
      ]
    },
    {
      "cell_type": "markdown",
      "source": [
        "# New Section"
      ],
      "metadata": {
        "id": "9QQmqCpannjf"
      }
    },
    {
      "cell_type": "markdown",
      "source": [
        "# New Section"
      ],
      "metadata": {
        "id": "fVzKW3L8noQu"
      }
    }
  ]
}