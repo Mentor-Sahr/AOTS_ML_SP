{
  "nbformat": 4,
  "nbformat_minor": 0,
  "metadata": {
    "kernelspec": {
      "display_name": "Python 3",
      "language": "python",
      "name": "python3"
    },
    "language_info": {
      "codemirror_mode": {
        "name": "ipython",
        "version": 3
      },
      "file_extension": ".py",
      "mimetype": "text/x-python",
      "name": "python",
      "nbconvert_exporter": "python",
      "pygments_lexer": "ipython3",
      "version": "3.8.5"
    },
    "colab": {
      "provenance": [],
      "include_colab_link": true
    }
  },
  "cells": [
    {
      "cell_type": "markdown",
      "metadata": {
        "id": "view-in-github",
        "colab_type": "text"
      },
      "source": [
        "<a href=\"https://colab.research.google.com/github/Mentor-Sahr/AOTS_ML_SP/blob/master/ensemble.ipynb\" target=\"_parent\"><img src=\"https://colab.research.google.com/assets/colab-badge.svg\" alt=\"Open In Colab\"/></a>"
      ]
    },
    {
      "cell_type": "markdown",
      "metadata": {
        "id": "Aup6ke-zlD10"
      },
      "source": [
        "<div class =\"alert alert-block alert-success\" style='text-align:center'>\n",
        "<h2> Ensemble learning </h2>\n",
        "</div>"
      ]
    },
    {
      "cell_type": "markdown",
      "metadata": {
        "id": "23dUn7szlD17"
      },
      "source": [
        "This is a technique that combines individual models together in order to improve stability and predictive power of a model,\n",
        "ensemble methods use multiple learning algorithms to obtain better predictive performance than could be obtained from any of the constituent learning algorithms alone."
      ]
    },
    {
      "cell_type": "markdown",
      "metadata": {
        "id": "aZ7EYpPtlD18"
      },
      "source": [
        "<div class =\"alert alert-block alert-warning\" style='text-align:center'>\n",
        "<h2> How does it work? </h2>\n",
        "</div>"
      ]
    },
    {
      "cell_type": "markdown",
      "metadata": {
        "id": "hASVgukKlD18"
      },
      "source": [
        "### The Concept behind"
      ]
    },
    {
      "cell_type": "markdown",
      "metadata": {
        "id": "GNnZWJpulD19"
      },
      "source": [
        "It combines multiple machine learning models into one predictive model.\n",
        "\n",
        "Certain models do well when working on one aspect of data while others do well on other aspects of data, so instead of using one model we use multiple models together and predict a final decision.\n",
        "\n",
        "The **goal** is to make sure that the accuracy is higher than the one of a single model\n",
        "\n",
        "<img src=\"ensemble.jpg\" style=\"height:300px\">"
      ]
    },
    {
      "cell_type": "markdown",
      "metadata": {
        "id": "PozprFMDlD19"
      },
      "source": [
        "<div class =\"alert alert-block alert-warning\" style='text-align:center'>\n",
        "<h2> Types of Ensemble learning </h2>\n",
        "</div>"
      ]
    },
    {
      "cell_type": "markdown",
      "metadata": {
        "id": "EGI1jS3ilD19"
      },
      "source": [
        "There are many types of ensemble learning but we are going to focus on three types for now but feel free to checkout all of the other ones.\n",
        "\n",
        "three types of ensemble learning:\n",
        "1. **Blending**: Blending is a type of ensemble learning where we independently train a number of models, weighting the estimation results and then adding them together. and the simplest way to do this is to the take the average.\n",
        "\n",
        "2. **Bagging**: Bagging is a type of ensemble learning where we create a number of subsets(also called bootstrap samples) by extracting randomly for the training data after allowing duplication, and we train the models with these subsets and we do estimations on them.\n",
        "\n",
        "3. **Stacking**: Stacking is a type of ensemble learning where we make predictions by using a meta-model trained from a pool of base models — a pool of base models are first trained using training data and asked to give their prediction; a different meta model is then trained to use outputs from base models to give the final prediction."
      ]
    },
    {
      "cell_type": "markdown",
      "metadata": {
        "id": "ivy_BWPslD1-"
      },
      "source": [
        "<div class =\"alert alert-block alert-success\" style='text-align:center'>\n",
        "<h2> Ensemble learning example </h2>\n",
        "</div>"
      ]
    },
    {
      "cell_type": "code",
      "metadata": {
        "id": "4-DK6dOulLVA"
      },
      "source": [
        "import numpy as np\n",
        "import matplotlib.pyplot as plt\n",
        "from sklearn.datasets import make_moons\n",
        "from sklearn.model_selection import train_test_split"
      ],
      "execution_count": 2,
      "outputs": []
    },
    {
      "cell_type": "code",
      "metadata": {
        "id": "LyCDl7VZmN2-"
      },
      "source": [
        "from matplotlib.colors import ListedColormap\n",
        "\n",
        "def plot_decision_boundary(clf, X, y, axes=[-1.5, 2.45, -1, 1.5], alpha=0.5, contour=True):\n",
        "    \n",
        "    h = .02\n",
        "    x_min, x_max = X[:, 0].min() - .5, X[:, 0].max() + .5\n",
        "    y_min, y_max = X[:, 1].min() - .5, X[:, 1].max() + .5\n",
        "    xx, yy = np.meshgrid(np.arange(x_min, x_max, h),\n",
        "                         np.arange(y_min, y_max, h))\n",
        "    \n",
        "    \n",
        "    Z = clf.predict_proba(np.c_[xx.ravel(), yy.ravel()])[:, 1]\n",
        "    Z = Z.reshape(xx.shape)\n",
        "    plt.contourf(xx, yy, Z, alpha=.5)\n",
        "    \n",
        "    plt.scatter(X[:,0], X[:,1], c=y, alpha=0.8, edgecolors='k')"
      ],
      "execution_count": 3,
      "outputs": []
    },
    {
      "cell_type": "code",
      "metadata": {
        "colab": {
          "base_uri": "https://localhost:8080/",
          "height": 265
        },
        "id": "KOctmd5imN6t",
        "outputId": "182c5e10-12eb-428d-8ebf-451ae75f87d1"
      },
      "source": [
        "X, y = make_moons(n_samples=500, noise=0.3, random_state=0)\n",
        "plt.scatter(X[:,0], X[:,1], c=y, alpha=0.8)\n",
        "\n",
        "X_train, X_test, y_train, y_test = train_test_split(X, y, test_size=0.3, random_state=0)"
      ],
      "execution_count": 4,
      "outputs": [
        {
          "output_type": "display_data",
          "data": {
            "text/plain": [
              "<Figure size 432x288 with 1 Axes>"
            ],
            "image/png": "[encoded data removed]"
          },
          "metadata": {
            "needs_background": "light"
          }
        }
      ]
    },
    {
      "cell_type": "markdown",
      "metadata": {
        "id": "ArNdmaE5mZq6"
      },
      "source": [
        "### 1. Voting Classifier"
      ]
    },
    {
      "cell_type": "markdown",
      "source": [
        "A voting classifier is a type of ensemble learning method in machine learning that combines multiple different models, or \"classifiers\", to make a prediction. \n",
        "\n",
        "The idea behind a voting classifier is that by combining multiple models, the overall prediction will be more accurate than any one model alone.\n",
        "\n",
        "There are several ways to implement a voting classifier, but one common approach is to use a majority vote. \n",
        "\n",
        "Each classifier in the ensemble makes a prediction, and the class with the most votes is selected as the final prediction. \n",
        "\n",
        "This approach works particularly well when the individual classifiers have different strengths and weaknesses.\n",
        "\n",
        "Another approach to voting classifiers is to use weighted voting. In this approach, each classifier is given a weight, and the final prediction is determined by a weighted average of the predictions from each classifier. \n",
        "\n",
        "This approach can be particularly useful when certain classifiers are more accurate or reliable than others.\n",
        "\n",
        "Voting classifiers can be used in a variety of machine learning tasks, such as classification and regression. \n",
        "\n",
        "They are particularly useful in situations where there is a lot of uncertainty in the data or where there are multiple possible outcomes."
      ],
      "metadata": {
        "id": "ZrmW8RmZReWs"
      }
    },
    {
      "cell_type": "code",
      "metadata": {
        "id": "oNMILUWmmOCA"
      },
      "source": [
        "from sklearn.linear_model import SGDClassifier\n",
        "from sklearn.tree import DecisionTreeClassifier\n",
        "from sklearn.neighbors import KNeighborsClassifier\n",
        "from sklearn.ensemble import VotingClassifier"
      ],
      "execution_count": 5,
      "outputs": []
    },
    {
      "cell_type": "code",
      "metadata": {
        "colab": {
          "base_uri": "https://localhost:8080/"
        },
        "id": "2TOtgaEqmOEY",
        "outputId": "b545d55c-daa9-4ffb-fd85-8b8289074933"
      },
      "source": [
        "model_1 = SGDClassifier(random_state=0)\n",
        "model_2 = DecisionTreeClassifier(random_state=0)\n",
        "model_3 = KNeighborsClassifier(n_neighbors=2)\n",
        "\n",
        "model_4 = VotingClassifier([('SGD', model_1),\n",
        "                            ('Tree', model_2),\n",
        "                            ('KNN', model_3)],\n",
        "                          voting='hard')\n",
        "\n",
        "for model in (model_1, model_2, model_3, model_4):\n",
        "    model.fit(X_train, y_train)\n",
        "    print(model.__class__.__name__, model.score(X_test, y_test))"
      ],
      "execution_count": 6,
      "outputs": [
        {
          "output_type": "stream",
          "name": "stdout",
          "text": [
            "SGDClassifier 0.84\n",
            "DecisionTreeClassifier 0.86\n",
            "KNeighborsClassifier 0.86\n",
            "VotingClassifier 0.8733333333333333\n"
          ]
        }
      ]
    },
    {
      "cell_type": "markdown",
      "source": [
        "### 2. Blending"
      ],
      "metadata": {
        "id": "brM4VjmoWgNL"
      }
    },
    {
      "cell_type": "markdown",
      "source": [
        "In blending, multiple models are also trained on the same data, but instead of combining their predictions directly, a new model is trained to make the final prediction. The predictions of the original models are used as input features for the new model, and the new model learns to combine them in a way that produces the best prediction"
      ],
      "metadata": {
        "id": "lBlOabafXV_7"
      }
    },
    {
      "cell_type": "code",
      "source": [
        "from sklearn.linear_model import LogisticRegression\n",
        "from sklearn.ensemble import RandomForestClassifier\n",
        "\n",
        "# Define the individual classifiers\n",
        "clf1 = LogisticRegression(random_state=0)\n",
        "clf2 = KNeighborsClassifier(n_neighbors=5)\n",
        "clf3 = RandomForestClassifier(n_estimators=100, random_state=0)\n",
        "\n",
        "# Define the blending classifier\n",
        "eclf = VotingClassifier(estimators=[('lr', clf1), ('knn', clf2), ('rf', clf3)], voting='soft')\n",
        "\n",
        "# Fit the individual classifiers on the training data\n",
        "clf1.fit(X_train, y_train)\n",
        "clf2.fit(X_train, y_train)\n",
        "clf3.fit(X_train, y_train)\n",
        "\n",
        "# Use the individual classifiers to make predictions on the test data\n",
        "pred1 = clf1.predict_proba(X_test)\n",
        "pred2 = clf2.predict_proba(X_test)\n",
        "pred3 = clf3.predict_proba(X_test)\n",
        "\n",
        "# Use the predicted probabilities as features for the blending classifier\n",
        "X_blend = np.concatenate([pred1, pred2, pred3], axis=1)\n",
        "\n",
        "# Fit the blending classifier on the predicted probabilities\n",
        "eclf.fit(X_blend, y_test)\n",
        "\n",
        "# Use the blending classifier to make predictions on the test data\n",
        "blend_pred = eclf.predict(X_blend)\n",
        "\n",
        "# Evaluate the performance of the individual classifiers and the blending classifier\n",
        "print('Logistic regression accuracy: {:.2f}'.format(clf1.score(X_test, y_test)))\n",
        "print('KNN accuracy: {:.2f}'.format(clf2.score(X_test, y_test)))\n",
        "print('Random forest accuracy: {:.2f}'.format(clf3.score(X_test, y_test)))\n",
        "print('Blending classifier accuracy: {:.2f}'.format(eclf.score(X_blend, y_test)))"
      ],
      "metadata": {
        "colab": {
          "base_uri": "https://localhost:8080/"
        },
        "id": "TULA6SpRWfQk",
        "outputId": "2e36ef66-1398-46e4-d59a-c4224593f03d"
      },
      "execution_count": 7,
      "outputs": [
        {
          "output_type": "stream",
          "name": "stdout",
          "text": [
            "Logistic regression accuracy: 0.81\n",
            "KNN accuracy: 0.88\n",
            "Random forest accuracy: 0.89\n",
            "Blending classifier accuracy: 0.96\n"
          ]
        }
      ]
    },
    {
      "cell_type": "markdown",
      "metadata": {
        "id": "Ctqe7EUZmlDP"
      },
      "source": [
        "### 3. Bagging"
      ]
    },
    {
      "cell_type": "markdown",
      "source": [
        "In bagging, we first divide the training data into multiple subsets, each of which is then used to train a different model. \n",
        "\n",
        "The subsets are created by randomly sampling the data with replacement, which means that some data points may appear multiple times in a given subset, while others may not appear at all. Each model is trained independently of the others, using a different subset of the data.\n",
        "\n",
        "Once all the models have been trained, we can make a prediction by combining their outputs in some way. \n",
        "\n",
        "The most common approach is to take the average of the predictions made by each model. \n",
        "\n",
        "However, other methods such as weighted averaging, where each model's prediction is given a different weight, can also be used."
      ],
      "metadata": {
        "id": "YqkX6sSxb8ue"
      }
    },
    {
      "cell_type": "code",
      "metadata": {
        "id": "qklcTjeVmOKX"
      },
      "source": [
        "from sklearn.ensemble import BaggingClassifier, RandomForestClassifier"
      ],
      "execution_count": 8,
      "outputs": []
    },
    {
      "cell_type": "code",
      "metadata": {
        "colab": {
          "base_uri": "https://localhost:8080/"
        },
        "id": "EVxSao4fmrXx",
        "outputId": "ea9d5cc3-5bc5-4121-d4c6-bdf8e5768927"
      },
      "source": [
        "model = BaggingClassifier(estimator=KNeighborsClassifier(),\n",
        "                         n_estimators=100)\n",
        "\n",
        "model.fit(X_train, y_train)\n",
        "model.score(X_test, y_test)"
      ],
      "execution_count": 18,
      "outputs": [
        {
          "output_type": "execute_result",
          "data": {
            "text/plain": [
              "0.88"
            ]
          },
          "metadata": {},
          "execution_count": 18
        }
      ]
    },
    {
      "cell_type": "code",
      "source": [
        "# Create a decision tree classifier\n",
        "base_estimator = DecisionTreeClassifier()\n",
        "\n",
        "# Create a bagging classifier with 50 estimators\n",
        "bagging = BaggingClassifier(estimator=base_estimator, n_estimators=50)\n",
        "\n",
        "# Fit the bagging classifier on the training data\n",
        "bagging.fit(X_train, y_train)\n",
        "\n",
        "# Evaluate the bagging classifier on the test data\n",
        "score = bagging.score(X_test, y_test)\n",
        "print(\"Accuracy:\", score)"
      ],
      "metadata": {
        "colab": {
          "base_uri": "https://localhost:8080/"
        },
        "id": "wKyLLMZVcZjK",
        "outputId": "096cf935-01df-428e-8f0e-0cb04b2561d7"
      },
      "execution_count": 13,
      "outputs": [
        {
          "output_type": "stream",
          "name": "stdout",
          "text": [
            "Accuracy: 0.8866666666666667\n"
          ]
        }
      ]
    },
    {
      "cell_type": "code",
      "source": [
        "DT = DecisionTreeClassifier()\n",
        "DT.fit(X_train, y_train)\n",
        "DT.score(X_test, y_test)"
      ],
      "metadata": {
        "colab": {
          "base_uri": "https://localhost:8080/"
        },
        "id": "ogii5APsdWZi",
        "outputId": "7346373f-c5c7-41f3-8ae8-308b190a7b12"
      },
      "execution_count": 14,
      "outputs": [
        {
          "output_type": "execute_result",
          "data": {
            "text/plain": [
              "0.8733333333333333"
            ]
          },
          "metadata": {},
          "execution_count": 14
        }
      ]
    },
    {
      "cell_type": "code",
      "metadata": {
        "colab": {
          "base_uri": "https://localhost:8080/"
        },
        "id": "658DwvXZmraK",
        "outputId": "71d29e28-f647-4970-fe2c-b7e6dce93c3d"
      },
      "source": [
        "model_rf = RandomForestClassifier(n_estimators=100)\n",
        "\n",
        "model_rf.fit(X_train, y_train)\n",
        "model_rf.score(X_test, y_test)"
      ],
      "execution_count": 12,
      "outputs": [
        {
          "output_type": "execute_result",
          "data": {
            "text/plain": [
              "0.8733333333333333"
            ]
          },
          "metadata": {},
          "execution_count": 12
        }
      ]
    },
    {
      "cell_type": "code",
      "metadata": {
        "colab": {
          "base_uri": "https://localhost:8080/",
          "height": 265
        },
        "id": "fV3NpKermrcn",
        "outputId": "25ff7f93-7faa-4eb5-fb49-765bfb815e86"
      },
      "source": [
        "plot_decision_boundary(model, X_train, y_train)"
      ],
      "execution_count": null,
      "outputs": [
        {
          "output_type": "display_data",
          "data": {
            "image/png": "[encoded data removed]",
            "text/plain": [
              "<Figure size 432x288 with 1 Axes>"
            ]
          },
          "metadata": {
            "tags": [],
            "needs_background": "light"
          }
        }
      ]
    },
    {
      "cell_type": "markdown",
      "metadata": {
        "id": "_85ZGAocm1uh"
      },
      "source": [
        "### 4. Boosting "
      ]
    },
    {
      "cell_type": "markdown",
      "source": [
        "Boosting is another popular ensemble learning technique used for improving the accuracy of machine learning models. In contrast to bagging, which uses multiple independently trained models, boosting trains models sequentially, with each model attempting to correct the errors of the previous model. The idea is to focus on the data points that are difficult to classify, and gradually improve the accuracy of the model.\n",
        "\n",
        "Boosting works by iteratively training a sequence of weak learners, typically decision trees, on modified versions of the original data. Each weak learner is trained on a subset of the data, and assigns weights to each data point based on how well it was able to classify that point. The weights are then used to adjust the importance of each data point in the next round of training.\n",
        "\n",
        "The final prediction is made by combining the predictions of all the weak learners. In many boosting algorithms, the predictions are combined by taking a weighted average of the individual predictions, with the weights determined by the performance of each weak learner."
      ],
      "metadata": {
        "id": "naDdsRPOff8l"
      }
    },
    {
      "cell_type": "code",
      "metadata": {
        "id": "H2XdWv9hm03m"
      },
      "source": [
        "from sklearn.ensemble import AdaBoostClassifier, GradientBoostingClassifier"
      ],
      "execution_count": 15,
      "outputs": []
    },
    {
      "cell_type": "code",
      "source": [
        "# Create a decision tree classifier as the base estimator\n",
        "base_estimator = DecisionTreeClassifier(max_depth=1)\n",
        "\n",
        "# Create an AdaBoost classifier with 50 estimators\n",
        "adaboost = AdaBoostClassifier(estimator=base_estimator, n_estimators=50, learning_rate=1)\n",
        "\n",
        "# Fit the AdaBoost classifier on the training data\n",
        "adaboost.fit(X_train, y_train)\n",
        "\n",
        "# Evaluate the AdaBoost classifier on the test data\n",
        "score = adaboost.score(X_test, y_test)\n",
        "print(\"Accuracy:\", score)"
      ],
      "metadata": {
        "colab": {
          "base_uri": "https://localhost:8080/"
        },
        "id": "Q9rz9TnffIOn",
        "outputId": "fb4b984a-327d-4490-b143-17bbd0b3adce"
      },
      "execution_count": 17,
      "outputs": [
        {
          "output_type": "stream",
          "name": "stdout",
          "text": [
            "Accuracy: 0.8866666666666667\n"
          ]
        }
      ]
    },
    {
      "cell_type": "code",
      "metadata": {
        "colab": {
          "base_uri": "https://localhost:8080/"
        },
        "id": "0KWBO7O4m06P",
        "outputId": "690fd9e8-295b-42f3-d645-4ccda7a2ecae"
      },
      "source": [
        "model = AdaBoostClassifier(n_estimators=100)\n",
        "model.fit(X_train, y_train)\n",
        "model.score(X_test, y_test)"
      ],
      "execution_count": null,
      "outputs": [
        {
          "output_type": "execute_result",
          "data": {
            "text/plain": [
              "0.88"
            ]
          },
          "metadata": {
            "tags": []
          },
          "execution_count": 11
        }
      ]
    },
    {
      "cell_type": "code",
      "metadata": {
        "colab": {
          "base_uri": "https://localhost:8080/",
          "height": 265
        },
        "id": "pXKYib1rm081",
        "outputId": "1e3a86bb-6ced-4266-89f7-166380b1b931"
      },
      "source": [
        "plot_decision_boundary(model, X_train, y_train)"
      ],
      "execution_count": null,
      "outputs": [
        {
          "output_type": "display_data",
          "data": {
            "image/png": "[encoded data removed]",
            "text/plain": [
              "<Figure size 432x288 with 1 Axes>"
            ]
          },
          "metadata": {
            "tags": [],
            "needs_background": "light"
          }
        }
      ]
    },
    {
      "cell_type": "markdown",
      "metadata": {
        "id": "QYx3Epl5nEU4"
      },
      "source": [
        "### 5. Stacking"
      ]
    },
    {
      "cell_type": "code",
      "metadata": {
        "id": "xgYtBzW_m8Vb"
      },
      "source": [
        "from sklearn.ensemble import StackingClassifier"
      ],
      "execution_count": null,
      "outputs": []
    },
    {
      "cell_type": "code",
      "metadata": {
        "colab": {
          "base_uri": "https://localhost:8080/"
        },
        "id": "DMhW8gdpnMdg",
        "outputId": "6cded037-21dc-469a-c8eb-f7eb4333e197"
      },
      "source": [
        "model = StackingClassifier([('SGD', model_1),\n",
        "                            ('Tree', model_2),\n",
        "                            ('KNN', model_3)],\n",
        "                             final_estimator=KNeighborsClassifier())\n",
        "\n",
        "model.fit(X_train, y_train)\n",
        "model.score(X_test, y_test)"
      ],
      "execution_count": null,
      "outputs": [
        {
          "output_type": "execute_result",
          "data": {
            "text/plain": [
              "0.8666666666666667"
            ]
          },
          "metadata": {
            "tags": []
          },
          "execution_count": 14
        }
      ]
    },
    {
      "cell_type": "code",
      "metadata": {
        "colab": {
          "base_uri": "https://localhost:8080/",
          "height": 265
        },
        "id": "eClhsoMgnMgH",
        "outputId": "c16ca851-f51e-4f33-9f69-23311019e3d5"
      },
      "source": [
        "plot_decision_boundary(model, X_train, y_train)"
      ],
      "execution_count": null,
      "outputs": [
        {
          "output_type": "display_data",
          "data": {
            "image/png": "[encoded data removed]",
            "text/plain": [
              "<Figure size 432x288 with 1 Axes>"
            ]
          },
          "metadata": {
            "tags": [],
            "needs_background": "light"
          }
        }
      ]
    },
    {
      "cell_type": "markdown",
      "metadata": {
        "id": "2BQHkbY4lD1-"
      },
      "source": [
        "<div class =\"alert alert-block alert-success\" style='text-align:center'>\n",
        "<h2> Coding of Ensemble learning </h2>\n",
        "</div>"
      ]
    },
    {
      "cell_type": "markdown",
      "metadata": {
        "id": "BQG4gTHKlD1-"
      },
      "source": [
        "#### Dataset\n",
        "\n",
        "Lets start by getting the dataset and import other dependencies that we are going to use"
      ]
    },
    {
      "cell_type": "code",
      "metadata": {
        "id": "22KugQL-lD1_"
      },
      "source": [
        "# import dependencies\n",
        "import numpy as np\n",
        "import pandas as pd\n",
        "from sklearn.model_selection import train_test_split\n",
        "from sklearn.model_selection import cross_val_predict\n",
        "from sklearn.metrics import mean_squared_error\n",
        "from sklearn.preprocessing import StandardScaler\n",
        "from sklearn.ensemble import RandomForestRegressor\n",
        "from sklearn import linear_model\n",
        "from sklearn.svm import SVR\n",
        "from sklearn.tree import DecisionTreeRegressor\n",
        "from sklearn.linear_model import LinearRegression\n",
        "from sklearn.ensemble import GradientBoostingRegressor\n",
        "import lightgbm as lgb\n",
        "import xgboost as xgb\n",
        "from sklearn.linear_model import Lasso\n",
        "from sklearn.linear_model import Ridge\n",
        "from sklearn.model_selection import KFold"
      ],
      "execution_count": null,
      "outputs": []
    },
    {
      "cell_type": "code",
      "metadata": {
        "id": "oFa_n7_WlD1_",
        "outputId": "5cf8bae6-ebd0-4c8d-ec44-4c14594a64d5"
      },
      "source": [
        "df = pd.read_csv(\"train.csv\")\n",
        "df.head()"
      ],
      "execution_count": null,
      "outputs": [
        {
          "output_type": "execute_result",
          "data": {
            "text/html": [
              "<div>\n",
              "<style scoped>\n",
              "    .dataframe tbody tr th:only-of-type {\n",
              "        vertical-align: middle;\n",
              "    }\n",
              "\n",
              "    .dataframe tbody tr th {\n",
              "        vertical-align: top;\n",
              "    }\n",
              "\n",
              "    .dataframe thead th {\n",
              "        text-align: right;\n",
              "    }\n",
              "</style>\n",
              "<table border=\"1\" class=\"dataframe\">\n",
              "  <thead>\n",
              "    <tr style=\"text-align: right;\">\n",
              "      <th></th>\n",
              "      <th>Id</th>\n",
              "      <th>MSSubClass</th>\n",
              "      <th>MSZoning</th>\n",
              "      <th>LotFrontage</th>\n",
              "      <th>LotArea</th>\n",
              "      <th>Street</th>\n",
              "      <th>Alley</th>\n",
              "      <th>LotShape</th>\n",
              "      <th>LandContour</th>\n",
              "      <th>Utilities</th>\n",
              "      <th>...</th>\n",
              "      <th>PoolArea</th>\n",
              "      <th>PoolQC</th>\n",
              "      <th>Fence</th>\n",
              "      <th>MiscFeature</th>\n",
              "      <th>MiscVal</th>\n",
              "      <th>MoSold</th>\n",
              "      <th>YrSold</th>\n",
              "      <th>SaleType</th>\n",
              "      <th>SaleCondition</th>\n",
              "      <th>SalePrice</th>\n",
              "    </tr>\n",
              "  </thead>\n",
              "  <tbody>\n",
              "    <tr>\n",
              "      <th>0</th>\n",
              "      <td>1</td>\n",
              "      <td>60</td>\n",
              "      <td>RL</td>\n",
              "      <td>65.0</td>\n",
              "      <td>8450</td>\n",
              "      <td>Pave</td>\n",
              "      <td>NaN</td>\n",
              "      <td>Reg</td>\n",
              "      <td>Lvl</td>\n",
              "      <td>AllPub</td>\n",
              "      <td>...</td>\n",
              "      <td>0</td>\n",
              "      <td>NaN</td>\n",
              "      <td>NaN</td>\n",
              "      <td>NaN</td>\n",
              "      <td>0</td>\n",
              "      <td>2</td>\n",
              "      <td>2008</td>\n",
              "      <td>WD</td>\n",
              "      <td>Normal</td>\n",
              "      <td>208500</td>\n",
              "    </tr>\n",
              "    <tr>\n",
              "      <th>1</th>\n",
              "      <td>2</td>\n",
              "      <td>20</td>\n",
              "      <td>RL</td>\n",
              "      <td>80.0</td>\n",
              "      <td>9600</td>\n",
              "      <td>Pave</td>\n",
              "      <td>NaN</td>\n",
              "      <td>Reg</td>\n",
              "      <td>Lvl</td>\n",
              "      <td>AllPub</td>\n",
              "      <td>...</td>\n",
              "      <td>0</td>\n",
              "      <td>NaN</td>\n",
              "      <td>NaN</td>\n",
              "      <td>NaN</td>\n",
              "      <td>0</td>\n",
              "      <td>5</td>\n",
              "      <td>2007</td>\n",
              "      <td>WD</td>\n",
              "      <td>Normal</td>\n",
              "      <td>181500</td>\n",
              "    </tr>\n",
              "    <tr>\n",
              "      <th>2</th>\n",
              "      <td>3</td>\n",
              "      <td>60</td>\n",
              "      <td>RL</td>\n",
              "      <td>68.0</td>\n",
              "      <td>11250</td>\n",
              "      <td>Pave</td>\n",
              "      <td>NaN</td>\n",
              "      <td>IR1</td>\n",
              "      <td>Lvl</td>\n",
              "      <td>AllPub</td>\n",
              "      <td>...</td>\n",
              "      <td>0</td>\n",
              "      <td>NaN</td>\n",
              "      <td>NaN</td>\n",
              "      <td>NaN</td>\n",
              "      <td>0</td>\n",
              "      <td>9</td>\n",
              "      <td>2008</td>\n",
              "      <td>WD</td>\n",
              "      <td>Normal</td>\n",
              "      <td>223500</td>\n",
              "    </tr>\n",
              "    <tr>\n",
              "      <th>3</th>\n",
              "      <td>4</td>\n",
              "      <td>70</td>\n",
              "      <td>RL</td>\n",
              "      <td>60.0</td>\n",
              "      <td>9550</td>\n",
              "      <td>Pave</td>\n",
              "      <td>NaN</td>\n",
              "      <td>IR1</td>\n",
              "      <td>Lvl</td>\n",
              "      <td>AllPub</td>\n",
              "      <td>...</td>\n",
              "      <td>0</td>\n",
              "      <td>NaN</td>\n",
              "      <td>NaN</td>\n",
              "      <td>NaN</td>\n",
              "      <td>0</td>\n",
              "      <td>2</td>\n",
              "      <td>2006</td>\n",
              "      <td>WD</td>\n",
              "      <td>Abnorml</td>\n",
              "      <td>140000</td>\n",
              "    </tr>\n",
              "    <tr>\n",
              "      <th>4</th>\n",
              "      <td>5</td>\n",
              "      <td>60</td>\n",
              "      <td>RL</td>\n",
              "      <td>84.0</td>\n",
              "      <td>14260</td>\n",
              "      <td>Pave</td>\n",
              "      <td>NaN</td>\n",
              "      <td>IR1</td>\n",
              "      <td>Lvl</td>\n",
              "      <td>AllPub</td>\n",
              "      <td>...</td>\n",
              "      <td>0</td>\n",
              "      <td>NaN</td>\n",
              "      <td>NaN</td>\n",
              "      <td>NaN</td>\n",
              "      <td>0</td>\n",
              "      <td>12</td>\n",
              "      <td>2008</td>\n",
              "      <td>WD</td>\n",
              "      <td>Normal</td>\n",
              "      <td>250000</td>\n",
              "    </tr>\n",
              "  </tbody>\n",
              "</table>\n",
              "<p>5 rows × 81 columns</p>\n",
              "</div>"
            ],
            "text/plain": [
              "   Id  MSSubClass MSZoning  LotFrontage  LotArea Street Alley LotShape  \\\n",
              "0   1          60       RL         65.0     8450   Pave   NaN      Reg   \n",
              "1   2          20       RL         80.0     9600   Pave   NaN      Reg   \n",
              "2   3          60       RL         68.0    11250   Pave   NaN      IR1   \n",
              "3   4          70       RL         60.0     9550   Pave   NaN      IR1   \n",
              "4   5          60       RL         84.0    14260   Pave   NaN      IR1   \n",
              "\n",
              "  LandContour Utilities  ... PoolArea PoolQC Fence MiscFeature MiscVal MoSold  \\\n",
              "0         Lvl    AllPub  ...        0    NaN   NaN         NaN       0      2   \n",
              "1         Lvl    AllPub  ...        0    NaN   NaN         NaN       0      5   \n",
              "2         Lvl    AllPub  ...        0    NaN   NaN         NaN       0      9   \n",
              "3         Lvl    AllPub  ...        0    NaN   NaN         NaN       0      2   \n",
              "4         Lvl    AllPub  ...        0    NaN   NaN         NaN       0     12   \n",
              "\n",
              "  YrSold  SaleType  SaleCondition  SalePrice  \n",
              "0   2008        WD         Normal     208500  \n",
              "1   2007        WD         Normal     181500  \n",
              "2   2008        WD         Normal     223500  \n",
              "3   2006        WD        Abnorml     140000  \n",
              "4   2008        WD         Normal     250000  \n",
              "\n",
              "[5 rows x 81 columns]"
            ]
          },
          "metadata": {
            "tags": []
          },
          "execution_count": 2
        }
      ]
    },
    {
      "cell_type": "code",
      "metadata": {
        "id": "1cPziN1mlD2A",
        "outputId": "cb0c6964-f3a3-421d-daec-2e23e88ae40b"
      },
      "source": [
        "X = df[[\"GrLivArea\", \"YearBuilt\"]]\n",
        "X.head()"
      ],
      "execution_count": null,
      "outputs": [
        {
          "output_type": "execute_result",
          "data": {
            "text/html": [
              "<div>\n",
              "<style scoped>\n",
              "    .dataframe tbody tr th:only-of-type {\n",
              "        vertical-align: middle;\n",
              "    }\n",
              "\n",
              "    .dataframe tbody tr th {\n",
              "        vertical-align: top;\n",
              "    }\n",
              "\n",
              "    .dataframe thead th {\n",
              "        text-align: right;\n",
              "    }\n",
              "</style>\n",
              "<table border=\"1\" class=\"dataframe\">\n",
              "  <thead>\n",
              "    <tr style=\"text-align: right;\">\n",
              "      <th></th>\n",
              "      <th>GrLivArea</th>\n",
              "      <th>YearBuilt</th>\n",
              "    </tr>\n",
              "  </thead>\n",
              "  <tbody>\n",
              "    <tr>\n",
              "      <th>0</th>\n",
              "      <td>1710</td>\n",
              "      <td>2003</td>\n",
              "    </tr>\n",
              "    <tr>\n",
              "      <th>1</th>\n",
              "      <td>1262</td>\n",
              "      <td>1976</td>\n",
              "    </tr>\n",
              "    <tr>\n",
              "      <th>2</th>\n",
              "      <td>1786</td>\n",
              "      <td>2001</td>\n",
              "    </tr>\n",
              "    <tr>\n",
              "      <th>3</th>\n",
              "      <td>1717</td>\n",
              "      <td>1915</td>\n",
              "    </tr>\n",
              "    <tr>\n",
              "      <th>4</th>\n",
              "      <td>2198</td>\n",
              "      <td>2000</td>\n",
              "    </tr>\n",
              "  </tbody>\n",
              "</table>\n",
              "</div>"
            ],
            "text/plain": [
              "   GrLivArea  YearBuilt\n",
              "0       1710       2003\n",
              "1       1262       1976\n",
              "2       1786       2001\n",
              "3       1717       1915\n",
              "4       2198       2000"
            ]
          },
          "metadata": {
            "tags": []
          },
          "execution_count": 3
        }
      ]
    },
    {
      "cell_type": "code",
      "metadata": {
        "id": "uzETtarDlD2B",
        "outputId": "a412db6b-0b1a-4ff8-80a1-7a8c388d6b7f"
      },
      "source": [
        "y = df[\"SalePrice\"]\n",
        "y.head()"
      ],
      "execution_count": null,
      "outputs": [
        {
          "output_type": "execute_result",
          "data": {
            "text/plain": [
              "0    208500\n",
              "1    181500\n",
              "2    223500\n",
              "3    140000\n",
              "4    250000\n",
              "Name: SalePrice, dtype: int64"
            ]
          },
          "metadata": {
            "tags": []
          },
          "execution_count": 4
        }
      ]
    },
    {
      "cell_type": "markdown",
      "metadata": {
        "id": "yUKNhIijlD2B"
      },
      "source": [
        "### Blending\n",
        "\n",
        "In Blending various models are created by changing the following conditions:\n",
        "- Techniques (eg linear regression, SVM, decision tree, neural network, etc.)\n",
        "- Hyperparameters (eg SVM kernel type, initial weights, etc.)\n",
        "- How to preprocess input data (eg standardization, logarithmic transformation, PCA, etc.)"
      ]
    },
    {
      "cell_type": "markdown",
      "metadata": {
        "id": "T3MaPnvGlD2B"
      },
      "source": [
        "Like we said in blending we will be using different models and weight their results and calculate the average of them so that's what we are going to be doing\n",
        "\n",
        "we are going to start by running the models individually and calculate the MSE score and after we will put them together and add weight to them, showing the importance they have and after calculate the MSE score on the combined results and see if we can get a better score than the ones we get on the individual models"
      ]
    },
    {
      "cell_type": "code",
      "metadata": {
        "id": "JNcb1Ic1lD2C",
        "outputId": "ffad5bec-91b6-41be-d81b-778572efd8da"
      },
      "source": [
        "(X_train, X_test, y_train, y_test) = train_test_split(X, y, test_size=0.3, random_state=0, shuffle=True)\n",
        "X_train.head()"
      ],
      "execution_count": null,
      "outputs": [
        {
          "output_type": "execute_result",
          "data": {
            "text/html": [
              "<div>\n",
              "<style scoped>\n",
              "    .dataframe tbody tr th:only-of-type {\n",
              "        vertical-align: middle;\n",
              "    }\n",
              "\n",
              "    .dataframe tbody tr th {\n",
              "        vertical-align: top;\n",
              "    }\n",
              "\n",
              "    .dataframe thead th {\n",
              "        text-align: right;\n",
              "    }\n",
              "</style>\n",
              "<table border=\"1\" class=\"dataframe\">\n",
              "  <thead>\n",
              "    <tr style=\"text-align: right;\">\n",
              "      <th></th>\n",
              "      <th>GrLivArea</th>\n",
              "      <th>YearBuilt</th>\n",
              "    </tr>\n",
              "  </thead>\n",
              "  <tbody>\n",
              "    <tr>\n",
              "      <th>64</th>\n",
              "      <td>2034</td>\n",
              "      <td>1997</td>\n",
              "    </tr>\n",
              "    <tr>\n",
              "      <th>682</th>\n",
              "      <td>1291</td>\n",
              "      <td>1996</td>\n",
              "    </tr>\n",
              "    <tr>\n",
              "      <th>960</th>\n",
              "      <td>858</td>\n",
              "      <td>1958</td>\n",
              "    </tr>\n",
              "    <tr>\n",
              "      <th>1384</th>\n",
              "      <td>1258</td>\n",
              "      <td>1939</td>\n",
              "    </tr>\n",
              "    <tr>\n",
              "      <th>1100</th>\n",
              "      <td>438</td>\n",
              "      <td>1920</td>\n",
              "    </tr>\n",
              "  </tbody>\n",
              "</table>\n",
              "</div>"
            ],
            "text/plain": [
              "      GrLivArea  YearBuilt\n",
              "64         2034       1997\n",
              "682        1291       1996\n",
              "960         858       1958\n",
              "1384       1258       1939\n",
              "1100        438       1920"
            ]
          },
          "metadata": {
            "tags": []
          },
          "execution_count": 6
        }
      ]
    },
    {
      "cell_type": "code",
      "metadata": {
        "id": "JL7zn8JZlD2C",
        "outputId": "1380de13-521e-4d59-ec4f-579c2372d164"
      },
      "source": [
        "LM= linear_model.LinearRegression(normalize=True)\n",
        "LM.fit(X_train, y_train)\n",
        "LM_pred = LM.predict(X_test)\n",
        "print(\"MSE(Linear Model): \",mean_squared_error(y_test, LM_pred))\n",
        "\n",
        "sc = StandardScaler()\n",
        "X_test_std = sc.fit_transform(X_test)\n",
        "X_train_std = sc.fit_transform(X_train)\n",
        "SV= SVR(kernel='rbf')\n",
        "SV.fit(X_train_std, y_train)\n",
        "SV_pred = SV.predict(X_test_std)\n",
        "print(\"MSE(SVR): \",mean_squared_error(y_test, SV_pred))\n",
        "\n",
        "DR = DecisionTreeRegressor(max_depth=3)\n",
        "DR.fit(X_train, y_train)\n",
        "DR_pred = DR.predict(X_test)\n",
        "print(\"MSE(Decision Tree Regressor): \",mean_squared_error(y_test, DR_pred))\n",
        "\n",
        "mix_pred = np.vstack((LM_pred, SV_pred, DR_pred))\n",
        "mix_pred.shape\n",
        "\n",
        "mean_pred = LM_pred*0.5+SV_pred*0.1+DR_pred*0.4\n",
        "print(\"MSE(mean): \",mean_squared_error(y_test, mean_pred))"
      ],
      "execution_count": null,
      "outputs": [
        {
          "output_type": "stream",
          "text": [
            "MSE(Linear Model):  2690647926.377603\n",
            "MSE(SVR):  7119069689.683064\n",
            "MSE(Decision Tree Regressor):  2553443455.30812\n",
            "MSE(mean):  2470929971.5410113\n"
          ],
          "name": "stdout"
        }
      ]
    },
    {
      "cell_type": "code",
      "metadata": {
        "id": "D84sOlwJlD2D",
        "outputId": "6329857d-28f5-49ba-e88b-595b97b0bd9f"
      },
      "source": [
        "Las= Lasso(alpha=0.1)\n",
        "Las.fit(X_train, y_train)\n",
        "Las_pred = Las.predict(X_test)\n",
        "print(\"MSE(Lasso): \",mean_squared_error(y_test, Las_pred))\n",
        "\n",
        "sc = StandardScaler()\n",
        "X_test_std = sc.fit_transform(X_test)\n",
        "X_train_std = sc.fit_transform(X_train)\n",
        "SV= SVR(kernel='rbf',C=0.5)\n",
        "SV.fit(X_train_std, y_train)\n",
        "SV_pred = SV.predict(X_test_std)\n",
        "print(\"MSE(SVR): \",mean_squared_error(y_test, SV_pred))\n",
        "\n",
        "DR = DecisionTreeRegressor(max_depth=3)\n",
        "DR.fit(X_train, y_train)\n",
        "DR_pred = DR.predict(X_test)\n",
        "print(\"MSE(Decision Tree Regressor): \",mean_squared_error(y_test, DR_pred))\n",
        "\n",
        "mix_pred = np.vstack((LM_pred, SV_pred, DR_pred))\n",
        "mix_pred.shape\n",
        "\n",
        "mean_pred = Las_pred*0.5+SV_pred*0.05+DR_pred*0.45\n",
        "print(\"MSE(mean): \",mean_squared_error(y_test, mean_pred))"
      ],
      "execution_count": null,
      "outputs": [
        {
          "output_type": "stream",
          "text": [
            "MSE(Lasso):  2690647942.4335794\n",
            "MSE(SVR):  7128920068.0851145\n",
            "MSE(Decision Tree Regressor):  2553443455.30812\n",
            "MSE(mean):  2413207951.9277987\n"
          ],
          "name": "stdout"
        }
      ]
    },
    {
      "cell_type": "code",
      "metadata": {
        "id": "73HVZ5T1lD2D",
        "outputId": "daf65e72-338f-4533-e756-b11e61dee022"
      },
      "source": [
        "Rid= Ridge(alpha=0.1)\n",
        "Rid.fit(X_train, y_train)\n",
        "Rid_pred = Rid.predict(X_test)\n",
        "print(\"MSE(Ridge): \",mean_squared_error(y_test, Rid_pred))\n",
        "\n",
        "sc = StandardScaler()\n",
        "X_test_std = sc.fit_transform(X_test)\n",
        "X_train_std = sc.fit_transform(X_train)\n",
        "SV= SVR(kernel='linear', C=100)\n",
        "SV.fit(X_train_std, y_train)\n",
        "SV_pred = SV.predict(X_test_std)\n",
        "print(\"MSE(SVR): \",mean_squared_error(y_test, SV_pred))\n",
        "\n",
        "DR = DecisionTreeRegressor(max_depth=9)\n",
        "DR.fit(X_train, y_train)\n",
        "DR_pred = DR.predict(X_test)\n",
        "print(\"MSE(Decision Tree Regressor): \",mean_squared_error(y_test, DR_pred))\n",
        "\n",
        "mix_pred = np.vstack((LM_pred, SV_pred, DR_pred))\n",
        "mix_pred.shape\n",
        "\n",
        "mean_pred = Rid_pred*0.2+SV_pred*0.1+DR_pred*0.7\n",
        "print(\"MSE(mean): \",mean_squared_error(y_test, mean_pred))"
      ],
      "execution_count": null,
      "outputs": [
        {
          "output_type": "stream",
          "text": [
            "MSE(Ridge):  2690647942.087789\n",
            "MSE(SVR):  3389628361.3601527\n",
            "MSE(Decision Tree Regressor):  1954451644.6903894\n",
            "MSE(mean):  1896758398.8466942\n"
          ],
          "name": "stdout"
        }
      ]
    },
    {
      "cell_type": "markdown",
      "metadata": {
        "id": "2S7n6DtZlD2E"
      },
      "source": [
        "### Bagging"
      ]
    },
    {
      "cell_type": "markdown",
      "metadata": {
        "id": "rXpAK1filD2E"
      },
      "source": [
        "In order to get the bootstrap samples, we need to split our data using train test split with shuffle enabled"
      ]
    },
    {
      "cell_type": "code",
      "metadata": {
        "id": "Ix5siuWMlD2E"
      },
      "source": [
        "(X_train, X_test, y_train, y_test) = train_test_split(X, y, test_size=0.3, random_state=0, shuffle=True)\n",
        "X_train.head()"
      ],
      "execution_count": null,
      "outputs": []
    },
    {
      "cell_type": "markdown",
      "metadata": {
        "id": "-F99csQ3lD2E"
      },
      "source": [
        "**Bagging** is also going to be a class, that is going to train and predrict models using the bootstrap samples\n",
        "\n",
        "```\n",
        "class Bagging():\n",
        "```\n",
        "\n",
        "### Fit\n",
        "the fit function will take in the models and data(X, y) that is going to use to train the models\n",
        "```\n",
        "def fit(self, models, X, y):\n",
        "```\n",
        "\n",
        "we will create a list that is going to store the models after we train them\n",
        "```\n",
        "self.model_list = []\n",
        "```\n",
        "\n",
        "to go through the models we will loop through them\n",
        "```\n",
        "for j, model in enumerate(models):\n",
        "```\n",
        "\n",
        "we will select random values from our data, that we are going to use to train the models\n",
        "\n",
        "we will start by setting the seed value in order to recreate the same random values at each iteration\n",
        "```\n",
        "np.random.seed(j)\n",
        "```\n",
        "\n",
        "we will get random indeces that we will use to select the random values in the data we have\n",
        "```\n",
        "self.rand_index = np.random.choice(X.index,X.shape[0], replace=True)\n",
        "self.X_rand = X.loc[self.rand_index]\n",
        "self.y_rand = y.loc[self.rand_index]\n",
        "```\n",
        "\n",
        "after we will fit the data and store the fitted models in the list created earlier and these models will be use to predict after\n",
        "```\n",
        "self.model_list.append(model.fit(self.X_rand, self.y_rand))\n",
        "```\n",
        "\n",
        "let's put the codes together\n",
        "```\n",
        "class Bagging():\n",
        "     \n",
        "    def fit(self, models, X, y):\n",
        "        self.model_list = []\n",
        "        for j, model in enumerate(models):\n",
        "            np.random.seed(j)\n",
        "            self.rand_index = np.random.choice(X.index,X.shape[0], replace=True)\n",
        "            self.X_rand = X.loc[self.rand_index]\n",
        "            self.y_rand = y.loc[self.rand_index]\n",
        "            self.model_list.append(model.fit(self.X_rand, self.y_rand))\n",
        "            \n",
        "```\n",
        "\n",
        "### Predict\n",
        "the predict function will use the model list created in the fit function and it will take in the X and y(for mean squared error)\n",
        "\n",
        "we will start by creating an ndarray that will be used to broadcast the predicted values in it\n",
        "```\n",
        "self.pred_data = np.zeros((X.shape[0],len(self.model_list)))\n",
        "```\n",
        "\n",
        "we will loop through the model list that we have and we will use each one of them to predict\n",
        "```\n",
        "for i, model in enumerate(self.model_list):\n",
        "```\n",
        "\n",
        "we will use each model to predict\n",
        "```\n",
        "self.pred = model.predict(X)\n",
        "```\n",
        "\n",
        "after prediction we will save the values in the ndarray created earlier \n",
        "```\n",
        "self.pred_data[:,i] = self.pred\n",
        "```\n",
        "\n",
        "finally we will create the final prediction by calculating the mean of our predicted values\n",
        "```\n",
        "self.final_pred = np.mean(self.pred_data, axis=1)\n",
        "```\n",
        "\n",
        "after we can return the predicted values\n",
        "```\n",
        "return self.final_pred\n",
        "```\n",
        "\n",
        "during the predicting phase we can also print some of the values like the **MSE** and also the model list, so that we can have a clear understanding of what's happening \n",
        "```\n",
        "print(X.shape[0])\n",
        "print(len(self.model_list))\n",
        "print(\"MSE(mean): \",mean_squared_error(y, self.final_pred))\n",
        "```\n",
        "\n",
        "let's put together the codes"
      ]
    },
    {
      "cell_type": "code",
      "metadata": {
        "id": "0x1UwrLxlD2F"
      },
      "source": [
        "class Bagging():\n",
        "     \n",
        "    def fit(self, models, X, y):\n",
        "        self.model_list = []\n",
        "        for j, model in enumerate(models):\n",
        "            np.random.seed(j)\n",
        "            self.rand_index = np.random.choice(X.index,X.shape[0], replace=True)\n",
        "            self.X_rand = X.loc[self.rand_index]\n",
        "            self.y_rand = y.loc[self.rand_index]\n",
        "            self.model_list.append(model.fit(self.X_rand, self.y_rand))\n",
        "            \n",
        "    def predict(self, X, y):\n",
        "        print(X.shape[0])\n",
        "        print(len(self.model_list))\n",
        "        self.pred_data = np.zeros((X.shape[0],len(self.model_list)))\n",
        "        for i, model in enumerate(self.model_list):\n",
        "            self.pred = model.predict(X)\n",
        "            self.pred_data[:,i] = self.pred\n",
        "        self.final_pred = np.mean(self.pred_data, axis=1)\n",
        "        print(\"MSE(mean): \",mean_squared_error(y, self.final_pred))\n",
        "        return self.final_pred"
      ],
      "execution_count": null,
      "outputs": []
    },
    {
      "cell_type": "markdown",
      "metadata": {
        "id": "R3PWtuGBlD2G"
      },
      "source": [
        "Lets compare the models alone vs using bagging and check which one is better"
      ]
    },
    {
      "cell_type": "code",
      "metadata": {
        "id": "c-ac_kQ3lD2G"
      },
      "source": [
        "np.random.seed(1)\n",
        "rand_index = np.random.choice(X_train.index,1022, replace=True)\n",
        "np.random.seed(1)\n",
        "rand_index = np.random.choice(X_train.index,X_train.shape[0], replace=True)\n",
        "X_train1 = X_train.loc[rand_index]\n",
        "y_train1 = y_train.loc[rand_index]\n",
        "\n",
        "np.random.seed(2)\n",
        "rand_index = np.random.choice(X_train.index,X_train.shape[0], replace=True)\n",
        "X_train2 = X_train.loc[rand_index]\n",
        "y_train2 = y_train.loc[rand_index]\n",
        "\n",
        "np.random.seed(3)\n",
        "rand_index = np.random.choice(X_train.index,X_train.shape[0], replace=True).tolist()\n",
        "X_train3 = X_train.loc[rand_index]\n",
        "y_train3 = y_train.loc[rand_index]"
      ],
      "execution_count": null,
      "outputs": []
    },
    {
      "cell_type": "code",
      "metadata": {
        "id": "n41CPrPplD2G"
      },
      "source": [
        "reg1 = GradientBoostingRegressor(n_estimators=100,max_depth=5).fit(X_train1, y_train1)\n",
        "y_pred1 =reg1.predict(X_test)\n",
        "print(\"MSE: \",mean_squared_error(y_test, y_pred1))\n",
        "reg2 = GradientBoostingRegressor(n_estimators=500,max_depth=3).fit(X_train2, y_train2)\n",
        "y_pred2 =reg2.predict(X_test)\n",
        "print(\"MSE: \",mean_squared_error(y_test, y_pred2))\n",
        "reg3 = GradientBoostingRegressor(n_estimators=250,max_depth=5).fit(X_train3, y_train3)\n",
        "y_pred3 =reg3.predict(X_test)\n",
        "print(\"MSE: \",mean_squared_error(y_test, y_pred3))\n",
        "y_pred_mean = (y_pred1 + y_pred2 + y_pred3)/3\n",
        "print(\"MSE(mean): \",mean_squared_error(y_test, y_pred_mean))"
      ],
      "execution_count": null,
      "outputs": []
    },
    {
      "cell_type": "code",
      "metadata": {
        "id": "3d7pT4WhlD2G"
      },
      "source": [
        "reg1 = xgb.XGBRegressor(n_estimators=100,max_depth=5).fit(X_train1, y_train1)\n",
        "y_pred1 =reg1.predict(X_test)\n",
        "print(\"MSE: \",mean_squared_error(y_test, y_pred1))\n",
        "reg2 = xgb.XGBRegressor(n_estimators=500,max_depth=3).fit(X_train2, y_train2)\n",
        "y_pred2 =reg2.predict(X_test)\n",
        "print(\"MSE: \",mean_squared_error(y_test, y_pred2))\n",
        "reg3 = xgb.XGBRegressor(n_estimators=250,max_depth=5).fit(X_train3, y_train3)\n",
        "y_pred3 =reg3.predict(X_test)\n",
        "print(\"MSE: \",mean_squared_error(y_test, y_pred3))\n",
        "y_pred_mean = (y_pred1 + y_pred2 + y_pred3)/3\n",
        "print(\"MSE(mean): \",mean_squared_error(y_test, y_pred_mean))"
      ],
      "execution_count": null,
      "outputs": []
    },
    {
      "cell_type": "code",
      "metadata": {
        "id": "tR90VKVKlD2H"
      },
      "source": [
        "reg1 = lgb.LGBMRegressor(n_estimators=100,max_depth=5).fit(X_train1, y_train1)\n",
        "y_pred1 =reg1.predict(X_test)\n",
        "print(\"MSE: \",mean_squared_error(y_test, y_pred1))\n",
        "reg2 = lgb.LGBMRegressor(n_estimators=500,max_depth=3).fit(X_train2, y_train2)\n",
        "y_pred2 =reg2.predict(X_test)\n",
        "print(\"MSE: \",mean_squared_error(y_test, y_pred2))\n",
        "reg3 = lgb.LGBMRegressor(n_estimators=250,max_depth=5).fit(X_train3, y_train3)\n",
        "y_pred3 =reg3.predict(X_test)\n",
        "print(\"MSE: \",mean_squared_error(y_test, y_pred3))\n",
        "y_pred_mean = (y_pred1 + y_pred2 + y_pred3)/3\n",
        "print(\"MSE(mean): \",mean_squared_error(y_test, y_pred_mean))\n",
        "y_pred3[1]"
      ],
      "execution_count": null,
      "outputs": []
    },
    {
      "cell_type": "markdown",
      "metadata": {
        "id": "nQcCimBxlD2H"
      },
      "source": [
        "##### using bagging"
      ]
    },
    {
      "cell_type": "code",
      "metadata": {
        "id": "CEePulRPlD2H"
      },
      "source": [
        "models = [xgb.XGBRegressor(n_estimators=100,max_depth=5), GradientBoostingRegressor(n_estimators=100,max_depth=5), lgb.LGBMRegressor(n_estimators=100,max_depth=5)]\n",
        "bg = Bagging()\n",
        "bg.fit(models=models, X = X_train, y = y_train)\n",
        "bg.predict(X_test, y_test)[:10]"
      ],
      "execution_count": null,
      "outputs": []
    },
    {
      "cell_type": "code",
      "metadata": {
        "id": "5ssnQvNZlD2H"
      },
      "source": [
        "models = [lgb.LGBMRegressor(n_estimators=100,max_depth=5), lgb.LGBMRegressor(n_estimators=100,max_depth=5), lgb.LGBMRegressor(n_estimators=100,max_depth=5)]\n",
        "bg = Bagging()\n",
        "bg.fit(models=models, X = X_train, y = y_train)\n",
        "bg.predict(X_test, y_test)[:10]"
      ],
      "execution_count": null,
      "outputs": []
    },
    {
      "cell_type": "code",
      "metadata": {
        "id": "38sE5-V_lD2H"
      },
      "source": [
        "models = [xgb.XGBRegressor(n_estimators=100,max_depth=5), xgb.XGBRegressor(n_estimators=100,max_depth=5), xgb.XGBRegressor(n_estimators=100,max_depth=5)]\n",
        "bg = Bagging()\n",
        "bg.fit(models=models, X = X_train, y = y_train)\n",
        "bg.predict(X_test, y_test)[:10]"
      ],
      "execution_count": null,
      "outputs": []
    },
    {
      "cell_type": "code",
      "metadata": {
        "id": "Wwb80-S9lD2I"
      },
      "source": [
        "models = [xgb.XGBRegressor(n_estimators=100,max_depth=5), lgb.LGBMRegressor(n_estimators=100,max_depth=5), GradientBoostingRegressor(n_estimators=100,max_depth=5)]\n",
        "bg = Bagging()\n",
        "bg.fit(models=models, X = X_train, y = y_train)\n",
        "bg.predict(X_test, y_test)[:10]"
      ],
      "execution_count": null,
      "outputs": []
    },
    {
      "cell_type": "markdown",
      "metadata": {
        "id": "3a1tm53flD2I"
      },
      "source": [
        "### Stacking"
      ]
    },
    {
      "cell_type": "markdown",
      "metadata": {
        "id": "xgsTv_OSlD2I"
      },
      "source": [
        "Like the other ensemble methods created above, stacking is also to be a class\n",
        "```\n",
        "class Stacking():\n",
        "```\n",
        "\n",
        "Our stacking class will take in the models to use as the base models and the end model that we will use to train with the output of the base models\n",
        "\n",
        "```\n",
        "def __init__(self,models,end_model):\n",
        "    self.models = models\n",
        "    self.end_model = end_model\n",
        "```\n",
        "\n",
        "### Fit\n",
        "\n",
        "the fit function like always will take in the training data, but this time we are going to be processing our data, so we will also give it a seed value to be used and a k for k_fold\n",
        "\n",
        "```\n",
        "def fit(self,X,y,K,seed):\n",
        "```\n",
        "\n",
        "we are going to start by initializing what we are going to be using\n",
        "```\n",
        "self.K = K\n",
        "KF = KFold(n_splits=K, random_state=seed, shuffle=True)\n",
        "self.pred_data = np.array([])\n",
        "X = np.array(X)\n",
        "y = np.array(y)\n",
        "self.preds = np.array([])\n",
        "self.model_list = []\n",
        "```\n",
        "\n",
        "the number of splits to be used in k_fold and where we are going to be storing our results\n",
        "\n",
        "after we are going to be training our models, predict and store the values \n",
        "```\n",
        "for i, model in enumerate(self.models):\n",
        "    for train_index, test_index in KF.split(X):\n",
        "        self.model_list.append(model.fit(X[train_index],y[train_index]))\n",
        "        y_pred = model.predict(X[test_index])\n",
        "        self.preds = np.append(self.preds, y_pred)\n",
        "```\n",
        "\n",
        "after we will reshape the values and use them to train our end model\n",
        "```\n",
        "self.preds = self.preds.reshape(len(self.models),X.shape[0]).T\n",
        "self.end_model.fit(self.preds, y)\n",
        "```\n",
        "\n",
        "### Predict\n",
        "\n",
        "in our predict function we are going to be getting values and use them to predict using our end model to get the final predictions\n",
        "```\n",
        "X = np.array(X)\n",
        "y = np.array(y)\n",
        "self.test_array = np.array([])\n",
        "self.final_test = np.zeros((X.shape[0],self.K))\n",
        "for model in self.model_list:\n",
        "    y_pred_test = model.predict(X)\n",
        "    self.test_array = np.append(self.test_array, y_pred_test)\n",
        "self.test_array=self.test_array.reshape(len(self.models)*self.K, X.shape[0]).T\n",
        "print(\"Test-->\", self.test_array.shape)\n",
        "for j, i in enumerate(range(0,len(self.models)*self.K-self.K, self.K)):\n",
        "    self.mean_pred = np.mean(self.test_array[:,i:i+self.K], axis=1)\n",
        "    self.final_test[:,j] = self.mean_pred\n",
        "self.final_pred = self.end_model.predict(self.final_test)\n",
        "print(\"Last stage-->\", self.final_test.shape)\n",
        "return self.final_pred\n",
        "```\n",
        "\n",
        "Lets put the codes together"
      ]
    },
    {
      "cell_type": "code",
      "metadata": {
        "id": "YgxXABTElD2I"
      },
      "source": [
        "class Stacking():\n",
        "    \n",
        "    def __init__(self,models,end_model):\n",
        "        self.models = models\n",
        "        self.end_model = end_model\n",
        "\n",
        "    def fit(self,X,y,K,seed):\n",
        "        self.K = K\n",
        "        KF = KFold(n_splits=K, random_state=seed, shuffle=True)\n",
        "        self.pred_data = np.array([])\n",
        "        X = np.array(X)\n",
        "        y = np.array(y)\n",
        "        self.preds = np.array([])\n",
        "        self.model_list = []\n",
        "        for i, model in enumerate(self.models):\n",
        "            for train_index, test_index in KF.split(X):\n",
        "                self.model_list.append(model.fit(X[train_index],y[train_index]))\n",
        "                y_pred = model.predict(X[test_index])\n",
        "                self.preds = np.append(self.preds, y_pred)\n",
        "        self.preds = self.preds.reshape(len(self.models),X.shape[0]).T\n",
        "        self.end_model.fit(self.preds, y)\n",
        "       \n",
        "    def predict(self,X, y):\n",
        "        X = np.array(X)\n",
        "        y = np.array(y)\n",
        "        self.test_array = np.array([])\n",
        "        self.final_test = np.zeros((X.shape[0],self.K))\n",
        "        for model in self.model_list:\n",
        "            y_pred_test = model.predict(X)\n",
        "            self.test_array = np.append(self.test_array, y_pred_test)\n",
        "        self.test_array=self.test_array.reshape(len(self.models)*self.K, X.shape[0]).T\n",
        "        print(\"Test-->\", self.test_array.shape)\n",
        "        for j, i in enumerate(range(0,len(self.models)*self.K-self.K, self.K)):\n",
        "            self.mean_pred = np.mean(self.test_array[:,i:i+self.K], axis=1)\n",
        "            self.final_test[:,j] = self.mean_pred\n",
        "        self.final_pred = self.end_model.predict(self.final_test)\n",
        "        print(\"Last stage-->\", self.final_test.shape)\n",
        "        return self.final_pred"
      ],
      "execution_count": null,
      "outputs": []
    },
    {
      "cell_type": "code",
      "metadata": {
        "id": "CI2jjFLHlD2J",
        "outputId": "44421071-fc9a-40f1-ee2a-8c23e92102c4"
      },
      "source": [
        "models = [xgb.XGBRegressor(n_estimators=100,max_depth=5), GradientBoostingRegressor(n_estimators=100,max_depth=5), lgb.LGBMRegressor(n_estimators=100,max_depth=5)]\n",
        "St = Stacking(models,end_model=GradientBoostingRegressor(n_estimators=100,max_depth=5))\n",
        "St.fit(X=X_train, y=y_train,K=3,seed=0)\n",
        "y_pred_end = St.predict(X_test, y_test)\n",
        "print(\"MSE(Stacking): \",mean_squared_error(y_test, y_pred_end))"
      ],
      "execution_count": null,
      "outputs": [
        {
          "output_type": "stream",
          "text": [
            "[LightGBM] [Warning] Accuracy may be bad since you didn't explicitly set num_leaves OR 2^max_depth > num_leaves. (num_leaves=31).\n",
            "[LightGBM] [Warning] Accuracy may be bad since you didn't explicitly set num_leaves OR 2^max_depth > num_leaves. (num_leaves=31).\n",
            "[LightGBM] [Warning] Accuracy may be bad since you didn't explicitly set num_leaves OR 2^max_depth > num_leaves. (num_leaves=31).\n",
            "Test--> (438, 9)\n",
            "Last stage--> (438, 3)\n",
            "MSE(Stacking):  12024894823.64388\n"
          ],
          "name": "stdout"
        },
        {
          "output_type": "stream",
          "text": [
            "C:\\Users\\user\\anaconda3\\lib\\site-packages\\xgboost\\data.py:112: UserWarning: Use subset (sliced data) of np.ndarray is not recommended because it will generate extra copies and increase memory consumption\n",
            "  warnings.warn(\n"
          ],
          "name": "stderr"
        }
      ]
    },
    {
      "cell_type": "markdown",
      "metadata": {
        "id": "RulOj3COlD2J"
      },
      "source": [
        "Lets compare it to single models"
      ]
    },
    {
      "cell_type": "code",
      "metadata": {
        "id": "r4x_qdzTlD2J",
        "outputId": "fe81ab33-b239-4a27-d959-a881d2f5f38e"
      },
      "source": [
        "X1_train, X2_train, X3_train  = np.split(X_train, [340, 681])\n",
        "y1_train, y2_train, y3_train  = np.split(y_train, [340, 681])\n",
        "X_train1 = np.vstack((X2_train, X3_train))\n",
        "y_train1 = np.hstack((y2_train, y3_train))\n",
        "reg1_Gr = GradientBoostingRegressor(n_estimators=100,max_depth=5).fit(X_train1, y_train1)\n",
        "y_pred1_reg1_Gr =reg1_Gr.predict(X1_train)\n",
        "print(\"MSE_1: \",mean_squared_error(y1_train, y_pred1_reg1_Gr))\n",
        "X_train2 = np.vstack((X1_train, X3_train))\n",
        "y_train2 = np.hstack((y1_train, y3_train))\n",
        "reg2_Gr = GradientBoostingRegressor(n_estimators=500,max_depth=3).fit(X_train2, y_train2)\n",
        "y_pred2_reg2_Gr =reg2_Gr.predict(X2_train)\n",
        "print(\"MSE_2: \",mean_squared_error(y2_train, y_pred2_reg2_Gr))\n",
        "X_train3 = np.vstack((X1_train, X2_train))\n",
        "y_train3 = np.hstack((y1_train, y2_train))\n",
        "reg3_Gr = GradientBoostingRegressor(n_estimators=250,max_depth=5).fit(X_train3, y_train3)\n",
        "y_pred3_reg3_Gr =reg3_Gr.predict(X3_train)\n",
        "print(\"MSE_2: \",mean_squared_error(y3_train, y_pred3_reg3_Gr))\n",
        "y_train_Gr = np.hstack((y_pred1_reg1_Gr, y_pred2_reg2_Gr, y_pred2_reg2_Gr))"
      ],
      "execution_count": null,
      "outputs": [
        {
          "output_type": "stream",
          "text": [
            "MSE_1:  2086951195.871368\n",
            "MSE_2:  2325130334.860273\n",
            "MSE_2:  1454736817.73551\n"
          ],
          "name": "stdout"
        }
      ]
    },
    {
      "cell_type": "code",
      "metadata": {
        "id": "S0LtlsjnlD2J",
        "outputId": "4b62fad7-5aef-4a86-9e9b-19ef6aa05fb4"
      },
      "source": [
        "X_train1 = np.vstack((X2_train, X3_train))\n",
        "y_train1 = np.hstack((y2_train, y3_train))\n",
        "reg1_LG = lgb.LGBMRegressor(n_estimators=100,max_depth=5).fit(X_train1, y_train1)\n",
        "y_pred1_reg1_LG =reg1_LG.predict(X1_train)\n",
        "print(\"MSE_1: \",mean_squared_error(y1_train, y_pred1_reg1_LG))\n",
        "X_train2 = np.vstack((X1_train, X3_train))\n",
        "y_train2 = np.hstack((y1_train, y3_train))\n",
        "reg2_LG = lgb.LGBMRegressor(n_estimators=500,max_depth=3).fit(X_train2, y_train2)\n",
        "y_pred2_reg2_LG =reg2_LG.predict(X2_train)\n",
        "print(\"MSE_2: \",mean_squared_error(y2_train, y_pred2_reg2_LG))\n",
        "X_train3 = np.vstack((X1_train, X2_train))\n",
        "y_train3 = np.hstack((y1_train, y2_train))\n",
        "reg3_LG = lgb.LGBMRegressor(n_estimators=250,max_depth=5).fit(X_train3, y_train3)\n",
        "y_pred3_reg3_LG =reg3_LG.predict(X3_train)\n",
        "print(\"MSE_3: \",mean_squared_error(y3_train, y_pred3_reg3_LG))\n",
        "y_train_LG = np.hstack((y_pred1_reg1_LG, y_pred2_reg2_LG, y_pred2_reg2_LG))"
      ],
      "execution_count": null,
      "outputs": [
        {
          "output_type": "stream",
          "text": [
            "[LightGBM] [Warning] Accuracy may be bad since you didn't explicitly set num_leaves OR 2^max_depth > num_leaves. (num_leaves=31).\n",
            "MSE_1:  1789291655.0779407\n",
            "MSE_2:  2088962682.1700788\n",
            "[LightGBM] [Warning] Accuracy may be bad since you didn't explicitly set num_leaves OR 2^max_depth > num_leaves. (num_leaves=31).\n",
            "MSE_3:  1383718320.4924493\n"
          ],
          "name": "stdout"
        }
      ]
    },
    {
      "cell_type": "code",
      "metadata": {
        "id": "dKQyiwfklD2K",
        "outputId": "5d05697b-bbd9-45c0-d9ad-bb17027c50f9"
      },
      "source": [
        "X_train1 = np.vstack((X2_train, X3_train))\n",
        "y_train1 = np.hstack((y2_train, y3_train))\n",
        "reg1_RF = RandomForestRegressor(n_estimators=100,max_depth=5).fit(X_train1, y_train1)\n",
        "y_pred1_reg1_RF =reg1_RF.predict(X1_train)\n",
        "print(\"MSE_1: \",mean_squared_error(y1_train, y_pred1_reg1_RF))\n",
        "X_train2 = np.vstack((X1_train, X3_train))\n",
        "y_train2 = np.hstack((y1_train, y3_train))\n",
        "reg2_RF = RandomForestRegressor(n_estimators=500,max_depth=3).fit(X_train2, y_train2)\n",
        "y_pred2_reg2_RF =reg2_RF.predict(X2_train)\n",
        "print(\"MSE_2: \",mean_squared_error(y2_train, y_pred2_reg2_RF))\n",
        "X_train3 = np.vstack((X1_train, X2_train))\n",
        "y_train3 = np.hstack((y1_train, y2_train))\n",
        "reg3_RF = RandomForestRegressor(n_estimators=250,max_depth=5).fit(X_train3, y_train3)\n",
        "y_pred3_reg3_RF =reg3_RF.predict(X3_train)\n",
        "print(\"MSE_3)\",mean_squared_error(y3_train, y_pred3_reg3_RF))\n",
        "y_train_RF = np.hstack((y_pred1_reg1_RF, y_pred2_reg2_RF, y_pred2_reg2_RF))"
      ],
      "execution_count": null,
      "outputs": [
        {
          "output_type": "stream",
          "text": [
            "MSE_1:  1910593807.441182\n",
            "MSE_2:  2410446520.0992074\n",
            "MSE_3) 1179371183.227062\n"
          ],
          "name": "stdout"
        }
      ]
    },
    {
      "cell_type": "code",
      "metadata": {
        "id": "sEb1s5SAlD2K"
      },
      "source": [
        "train_mix = np.vstack((y_train_Gr, y_train_LG, y_train_RF)).T\n",
        "\n",
        "xgb.XGBRegressor\n",
        "reg_end = xgb.XGBRegressor(n_estimators=250,max_depth=5).fit(train_mix, y_train)\n",
        "\n",
        "X_test1_Gr =reg1_Gr.predict(X_test)\n",
        "X_test2_Gr =reg2_Gr.predict(X_test)\n",
        "X_test3_Gr = reg3_Gr.predict(X_test)\n",
        "y_test_Gr = (X_test1_Gr + X_test2_Gr + X_test3_Gr) /3\n",
        "\n",
        "X_test1_LG =reg1_LG.predict(X_test)\n",
        "X_test2_LG =reg2_LG.predict(X_test)\n",
        "X_test3_LG = reg3_LG.predict(X_test)\n",
        "y_test_LG = (X_test1_LG + X_test2_LG + X_test3_LG) /3\n",
        "\n",
        "X_test1_RF =reg1_RF.predict(X_test)\n",
        "X_test2_RF =reg2_RF.predict(X_test)\n",
        "X_test3_RF = reg3_RF.predict(X_test)\n",
        "y_test_RF = (X_test1_RF + X_test2_RF + X_test3_RF) /3"
      ],
      "execution_count": null,
      "outputs": []
    },
    {
      "cell_type": "code",
      "metadata": {
        "id": "zgUT_DbIlD2L",
        "outputId": "f38f39d0-ef80-4ad6-8b82-4beec26876ad"
      },
      "source": [
        "X_test_end = np.vstack((y_test_Gr,y_test_LG,y_test_RF)).T\n",
        "y_pred_end = reg_end.predict(X_test_end)"
      ],
      "execution_count": null,
      "outputs": [
        {
          "output_type": "stream",
          "text": [
            "C:\\Users\\user\\anaconda3\\lib\\site-packages\\xgboost\\data.py:112: UserWarning: Use subset (sliced data) of np.ndarray is not recommended because it will generate extra copies and increase memory consumption\n",
            "  warnings.warn(\n"
          ],
          "name": "stderr"
        }
      ]
    },
    {
      "cell_type": "code",
      "metadata": {
        "id": "QWiaFPUblD2L",
        "outputId": "9dd336de-ddf6-43a5-e521-2f72ea835ffd"
      },
      "source": [
        "print(\"MSE(Stacking): \",mean_squared_error(y_test, y_pred_end))"
      ],
      "execution_count": null,
      "outputs": [
        {
          "output_type": "stream",
          "text": [
            "MSE(Stacking):  3502330955.962873\n"
          ],
          "name": "stdout"
        }
      ]
    }
  ]
}