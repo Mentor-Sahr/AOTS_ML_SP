{
  "nbformat": 4,
  "nbformat_minor": 0,
  "metadata": {
    "colab": {
      "provenance": [],
      "collapsed_sections": [
        "yilwc-7wuAYC",
        "XPYPuq8xuYGm"
      ]
    },
    "kernelspec": {
      "name": "python3",
      "display_name": "Python 3"
    },
    "language_info": {
      "name": "python"
    }
  },
  "cells": [
    {
      "cell_type": "markdown",
      "source": [
        "# Paper Folding Problem"
      ],
      "metadata": {
        "id": "g3RaxQCgwoT6"
      }
    },
    {
      "cell_type": "markdown",
      "source": [
        "## 1. About this text\n",
        "\n",
        "\n"
      ],
      "metadata": {
        "id": "yilwc-7wuAYC"
      }
    },
    {
      "cell_type": "markdown",
      "source": [
        "### Purpose of the text\n"
      ],
      "metadata": {
        "id": "XPYPuq8xuYGm"
      }
    },
    {
      "cell_type": "markdown",
      "source": [
        "Check basic programming skills.\n",
        "Use programming to solve problems\n",
        "Acquire the ability to solve by yourself by searching the Internet for points that cannot be understood from text alone."
      ],
      "metadata": {
        "id": "8r4vluRYunLc"
      }
    },
    {
      "cell_type": "markdown",
      "source": [
        "## 2. Folding a paper\n",
        "\n"
      ],
      "metadata": {
        "id": "Bw-u-k0suehI"
      }
    },
    {
      "cell_type": "markdown",
      "source": [
        "It is said that if you keep folding the paper, the thickness will increase and it will reach the moon in **43 times**, but it is difficult to calculate the thickness when the paper is folded **43 times** by hand.\n",
        "\n",
        "For this assignment, you will create a program that calculates the thickness of a sheet of paper when it is folded **43 times**.​\n",
        "\n",
        "The thickness of the paper folded **43 times**, $t_{43}$, can be obtained by the following formula using the thickness of the paper before folding, $t_{0}$.\n",
        "\n",
        "**t<sub>43</sub> = t<sub>0</sub>× 2<sup>43</sup> **\n",
        "\n",
        "\n",
        "The thickness of the paper before folding, $ t_ {0} $ is 0.00008m. This is the thickness of a typical sheet of photocopy paper."
      ],
      "metadata": {
        "id": "qC_uM55gusGf"
      }
    },
    {
      "cell_type": "markdown",
      "source": [
        "## 3. Thickness calculation by two methods\n"
      ],
      "metadata": {
        "id": "wAJFTyTsujQ6"
      }
    },
    {
      "cell_type": "markdown",
      "source": [
        "In programming, the same behavior can be described in different ways. Please use the following two this time.\n",
        "\n",
        "Use exponentiation arithmetic operators\n",
        "for statement\n"
      ],
      "metadata": {
        "id": "WR7rUc-1uj9j"
      }
    },
    {
      "cell_type": "markdown",
      "source": [
        "### [Problem 1] Implementation using exponentiation arithmetic operators\n"
      ],
      "metadata": {
        "id": "djVJuZL7wb9h"
      }
    },
    {
      "cell_type": "markdown",
      "source": [
        "* Create a program that uses the exponentiation arithmetic operator.\n",
        "* As a template, we have prepared a code that calculates the thickness of a sheet of paper when it is folded once. \n",
        "*Rewrite the code to calculate the thickness when the paper is folded **43 times**.\n",
        "\n",
        "\n",
        "**《Model》**"
      ],
      "metadata": {
        "id": "tLvyt9Z5wheT"
      }
    },
    {
      "cell_type": "code",
      "execution_count": null,
      "metadata": {
        "colab": {
          "base_uri": "https://localhost:8080/"
        },
        "id": "X34_N3FPtd0e",
        "outputId": "7eef0bcf-7da0-45ef-d90b-ed9f4eff5d22"
      },
      "outputs": [
        {
          "output_type": "stream",
          "name": "stdout",
          "text": [
            "Thickness: 0.00016 meters\n"
          ]
        }
      ],
      "source": [
        "# Code to calculate the thickness when the paper is folded once\n",
        "\n",
        "THICKNESS = 0.00008\n",
        "\n",
        "folded_thickness = THICKNESS * 2\n",
        "\n",
        "print(\"Thickness: {} meters\".format(folded_thickness))"
      ]
    },
    {
      "cell_type": "code",
      "source": [
        "t1 = THICKNESS * 2**1 \n",
        "t1"
      ],
      "metadata": {
        "colab": {
          "base_uri": "https://localhost:8080/"
        },
        "id": "dUwwBvoOrZL_",
        "outputId": "f89982b5-d48c-475f-b579-17251067cd74"
      },
      "execution_count": null,
      "outputs": [
        {
          "output_type": "execute_result",
          "data": {
            "text/plain": [
              "0.00016"
            ]
          },
          "metadata": {},
          "execution_count": 3
        }
      ]
    },
    {
      "cell_type": "code",
      "source": [
        "folded_thickness = THICKNESS * 2**3\n",
        "folded_thickness"
      ],
      "metadata": {
        "colab": {
          "base_uri": "https://localhost:8080/"
        },
        "id": "1ZQdxhlv95dY",
        "outputId": "6e7664df-6a26-49fd-fea2-cec70c93d398"
      },
      "execution_count": null,
      "outputs": [
        {
          "output_type": "execute_result",
          "data": {
            "text/plain": [
              "0.00064"
            ]
          },
          "metadata": {},
          "execution_count": 22
        }
      ]
    },
    {
      "cell_type": "markdown",
      "source": [
        "### Solution"
      ],
      "metadata": {
        "id": "GJhYcLQzyCeC"
      }
    },
    {
      "cell_type": "code",
      "source": [
        "# Code to calculate the thickness when the paper is folded 43 times\n",
        "\n",
        "THICKNESS = 0.00008\n",
        "\n",
        "folded_thickness = THICKNESS * 2**43\n",
        "\n",
        "print(\"Thickness: {} meters\".format(folded_thickness))"
      ],
      "metadata": {
        "colab": {
          "base_uri": "https://localhost:8080/"
        },
        "id": "i6mZwf1FyLbg",
        "outputId": "13e91025-89ef-4704-8cbc-93925b1be5e7"
      },
      "execution_count": null,
      "outputs": [
        {
          "output_type": "stream",
          "name": "stdout",
          "text": [
            "Thickness: 703687441.77664 meters\n"
          ]
        }
      ]
    },
    {
      "cell_type": "markdown",
      "source": [
        "### [Problem 2] Unit Conversion\n"
      ],
      "metadata": {
        "id": "wc7Nvdn2xH0Q"
      }
    },
    {
      "cell_type": "markdown",
      "source": [
        "If the unit is meters, it's hard to feel the difference, so please convert the unit to **10,000 kilometers** and display it.\n",
        "\n",
        "​We have prepared a code converted to **kilometers** as a sample, so please refer to it when working on it. \n",
        "\n",
        "It is specified that up to 2 digits are displayed after the decimal point.\n",
        "\n",
        "**《sample code》**"
      ],
      "metadata": {
        "id": "vEVpineYxMLL"
      }
    },
    {
      "cell_type": "code",
      "source": [
        "# Convert meters to kilometers and display with two decimal places\n",
        "print(\"Thickness: {: .2f} kilometers\".format(folded_thickness / 1000))"
      ],
      "metadata": {
        "colab": {
          "base_uri": "https://localhost:8080/"
        },
        "id": "IpUZfmw8yqmq",
        "outputId": "460783b3-124a-4f18-e857-110ef420b9dd"
      },
      "execution_count": null,
      "outputs": [
        {
          "output_type": "stream",
          "name": "stdout",
          "text": [
            "Thickness:  703687.44 kilometers\n"
          ]
        }
      ]
    },
    {
      "cell_type": "markdown",
      "source": [
        "The distance to the moon is approximately 384,400 km. Let's check if the folded paper arrives in the moon."
      ],
      "metadata": {
        "id": "qXvwSx7IzRQc"
      }
    },
    {
      "cell_type": "markdown",
      "source": [
        "### Solution"
      ],
      "metadata": {
        "id": "10HEjK4Myydl"
      }
    },
    {
      "cell_type": "code",
      "source": [
        "# Convert meters to kilometers and display with two decimal places\n",
        "print(\"Thickness: {: .2f} kilometers\".format(folded_thickness / 10000))"
      ],
      "metadata": {
        "colab": {
          "base_uri": "https://localhost:8080/"
        },
        "id": "glec3GOMy1rm",
        "outputId": "e828951d-d360-49e8-e9d4-a1d7efd698d2"
      },
      "execution_count": null,
      "outputs": [
        {
          "output_type": "stream",
          "name": "stdout",
          "text": [
            "Thickness:  70368.74 kilometers\n"
          ]
        }
      ]
    },
    {
      "cell_type": "markdown",
      "source": [
        "### [Problem 3] Create using a for statement\n",
        "\n",
        "\n"
      ],
      "metadata": {
        "id": "f6Y5uZljzdah"
      }
    },
    {
      "cell_type": "markdown",
      "source": [
        "Next, create a program that uses the for statement.\n",
        "\n",
        "Do not use exponentiation arithmetic operators. Only the four arithmetic operations ( + , - , * , / )  are allowed."
      ],
      "metadata": {
        "id": "vv_QlMqw0cog"
      }
    },
    {
      "cell_type": "markdown",
      "source": [
        "### Solution"
      ],
      "metadata": {
        "id": "-JTG3Ouf0wLz"
      }
    },
    {
      "cell_type": "code",
      "source": [
        "a = 100\n",
        "for i in range(101):\n",
        "  print(i)"
      ],
      "metadata": {
        "id": "ymEcHelHuAMz"
      },
      "execution_count": null,
      "outputs": []
    },
    {
      "cell_type": "code",
      "source": [
        "Num_of_folds = 43\n",
        "THICKNESS = 0.00008\n",
        "\n",
        "for i in range(Num_of_folds):\n",
        "  \n",
        "  THICKNESS  =  THICKNESS * 2\n",
        "print( THICKNESS)"
      ],
      "metadata": {
        "colab": {
          "base_uri": "https://localhost:8080/"
        },
        "id": "FGwbPR1z0ynD",
        "outputId": "2ebcf183-e023-4721-95de-8d7ec3c4a4e4"
      },
      "execution_count": null,
      "outputs": [
        {
          "output_type": "stream",
          "name": "stdout",
          "text": [
            "703687441.77664\n"
          ]
        }
      ]
    },
    {
      "cell_type": "code",
      "source": [
        "a = 1"
      ],
      "metadata": {
        "id": "ijdX1Hr1vOyp"
      },
      "execution_count": null,
      "outputs": []
    },
    {
      "cell_type": "code",
      "source": [
        "\n",
        "THICKNESS = 0.00008\n",
        "folded_times = 43\n",
        "\n",
        "folded_thickness = THICKNESS\n",
        "for i in range(folded_times):\n",
        "    folded_thickness = folded_thickness*2\n",
        "print(\"Thickness： {} meters\".format(folded_thickness))"
      ],
      "metadata": {
        "colab": {
          "base_uri": "https://localhost:8080/"
        },
        "id": "btkHz1FWjtt-",
        "outputId": "2c840934-9426-43e4-e557-939640eb6ab4"
      },
      "execution_count": null,
      "outputs": [
        {
          "output_type": "stream",
          "name": "stdout",
          "text": [
            "Thickness： 703687441.77664 meters\n"
          ]
        }
      ]
    },
    {
      "cell_type": "markdown",
      "source": [
        "### [Problem 4] Comparison of calculation time\n"
      ],
      "metadata": {
        "id": "CVl7QBBFz2db"
      }
    },
    {
      "cell_type": "markdown",
      "source": [
        "Both of the above two methods are correct, but when comparing the goodness of the code, for example, the following points are evaluated.\n",
        "\n",
        "- Execution speed\n",
        "- Memory usage\n",
        "- Readability\n",
        "- Scalability\n",
        "- Reusability\n",
        "\n",
        "This time I will compare the execution speed.\n",
        "\n",
        "Use the template below to output the execution times of the two methods and compare them. Compare the time in the range excluding the parts used by either method, such as variable definition and print​\n",
        "\n",
        "**《Model》**\n",
        "\n",
        "You can get the time by using the **time** module. You can find the execution time by calculating the time difference before and after the point you want to compare."
      ],
      "metadata": {
        "id": "hx7S3MYszlkv"
      }
    },
    {
      "cell_type": "code",
      "source": [
        "import time\n",
        "start = time.time()\n",
        "#####\n",
        "# Paste the code you want to compare here\n",
        "THICKNESS = 0.00008\n",
        "\n",
        "folded_thickness = THICKNESS * 2\n",
        "\n",
        "print(\"Thickness: {} meters\".format(folded_thickness))\n",
        "#####\n",
        "elapsed_time = time.time() - start\n",
        "print(\"time : {}[s]\".format(elapsed_time))"
      ],
      "metadata": {
        "id": "vz9ryrSnOYfx",
        "colab": {
          "base_uri": "https://localhost:8080/"
        },
        "outputId": "3f9381a0-4513-4d87-8dc1-0db9f05287f9"
      },
      "execution_count": null,
      "outputs": [
        {
          "output_type": "stream",
          "name": "stdout",
          "text": [
            "Thickness: 0.00016 meters\n",
            "time : 0.0014500617980957031[s]\n"
          ]
        }
      ]
    },
    {
      "cell_type": "code",
      "source": [
        "time.time()"
      ],
      "metadata": {
        "colab": {
          "base_uri": "https://localhost:8080/"
        },
        "id": "uNOsfvEAxoMy",
        "outputId": "949d01d6-f906-4fa3-a4eb-31519dac4465"
      },
      "execution_count": null,
      "outputs": [
        {
          "output_type": "execute_result",
          "data": {
            "text/plain": [
              "1671124404.0672135"
            ]
          },
          "metadata": {},
          "execution_count": 16
        }
      ]
    },
    {
      "cell_type": "markdown",
      "source": [
        "time — Accessing and converting time data-Python documentation\n",
        "\n",
        "**<Increase the number of repetitions>**\n",
        "\n",
        "It may be difficult to make a difference in comparison at about 43 times. In such cases, it is a good idea to fold the paper more often to clarify the difference.\n",
        "\n",
        "**<Using magic commands>**\n",
        "\n",
        "Since the execution time may change slightly each time it is executed, it is common to measure it multiple times. It can also be implemented by combining a **time** module and a for statement. Also, with Jupyter Notebook **%timeit** That Magic command But you can measure it. Magic commands are Jupyter Notebook-specific features that are not available in the standard Python execution system.\n",
        "\n",
        "Built-in magic commands --IPython documentation\n",
        "\n",
        "**​%%timeit** the beginning of the cell where you wrote the code you want to measure the execution time to execute."
      ],
      "metadata": {
        "id": "xkdFj24tP1Wh"
      }
    },
    {
      "cell_type": "code",
      "source": [
        "%%timeit\n",
        "#####\n",
        "# Paste the code you want to compare here\n",
        "for i in range(43):\n",
        "  \n",
        "  THICKNESS  =  THICKNESS * 2\n",
        "#####"
      ],
      "metadata": {
        "id": "kLNp6k0A01F9"
      },
      "execution_count": null,
      "outputs": []
    },
    {
      "cell_type": "markdown",
      "source": [
        "## 4. Graph visualization\n",
        "\n",
        "\n"
      ],
      "metadata": {
        "id": "hQyoPOOu06xf"
      }
    },
    {
      "cell_type": "code",
      "source": [
        "list1 = [0.00008,]\n",
        "thickness = 0.00008\n",
        "for i in range(43):\n",
        "  thickness = thickness * 2\n",
        "  list1.append(thickness)\n",
        "print(len(list1))"
      ],
      "metadata": {
        "colab": {
          "base_uri": "https://localhost:8080/"
        },
        "id": "5w0RXy5zZ4a0",
        "outputId": "183b98e8-3718-46a0-ac31-e85938de5c66"
      },
      "execution_count": null,
      "outputs": [
        {
          "output_type": "stream",
          "name": "stdout",
          "text": [
            "44\n"
          ]
        }
      ]
    },
    {
      "cell_type": "markdown",
      "source": [
        "Record the thickness when folded each time and visualize it with a line graph.\n",
        "\n",
        "Generalizing the formula, $ n $ Diffracted paper thickness $ t_ {n} $ can be expressed as:\n",
        "\n",
        "t<sub>n</sub> $ = t_ {0} $ × x-mark (used to indicate an incorrect answer in a test, etc.)2<sub>n</sub>n\n",
        "This is an exponential function. Let's take a look at the graph as the thickness increases rapidly and reaches the moon.\n",
        "\n"
      ],
      "metadata": {
        "id": "01Gf-Xnz3JFm"
      }
    },
    {
      "cell_type": "code",
      "source": [
        "list1 = []\n",
        "for i in range(1, 43 + 1):\n",
        "    folded_thickness = thickness*2**i\n",
        "    \n",
        "    #Adding values to the list\n",
        "    list1.append(folded_thickness)\n",
        "    print(list1)\n",
        "    print(len(list1))"
      ],
      "metadata": {
        "id": "i61rZFXdzL4M"
      },
      "execution_count": null,
      "outputs": []
    },
    {
      "cell_type": "code",
      "source": [
        "import matplotlib.pyplot as plt\n",
        "#%matplotlib inline\n",
        "\n",
        "plt.title(\"thickness of folded paper\")\n",
        "plt.xlabel(\"number of folds\")\n",
        "plt.ylabel(\"thickness[M]\")\n",
        "plt.tick_params(labelsize=10)\n",
        "plt.plot(list1)\n",
        "plt.show()\n"
      ],
      "metadata": {
        "colab": {
          "base_uri": "https://localhost:8080/",
          "height": 295
        },
        "id": "aLconAwnzlZj",
        "outputId": "dd77f9d8-aa21-444d-84fd-83978e5f2b52"
      },
      "execution_count": null,
      "outputs": [
        {
          "output_type": "display_data",
          "data": {
            "text/plain": [
              "<Figure size 432x288 with 1 Axes>"
            ],
            "image/png": "[encoded data removed]"
          },
          "metadata": {
            "needs_background": "light"
          }
        }
      ]
    },
    {
      "cell_type": "markdown",
      "source": [
        "### [Problem 5] Saving to a list\n"
      ],
      "metadata": {
        "id": "VCn6L2uM88RC"
      }
    },
    {
      "cell_type": "markdown",
      "source": [
        "So far, we have only used the last value after 43 folds, but we need the process values as well to visualize them in the graph; add the code that records the total of 44 process values to the code using the for statement.\n",
        "\n",
        "**<< Hint >>**\n",
        "\n",
        "* First, create an empty list.\n",
        "* Next, add the value before folding to the list.\n",
        "* Add the value of the process of folding the paper up to n times in the for statement to the list.\n",
        "\n",
        "\n",
        "Finally, let's use the len function to confirm that 44 values are stored in the list."
      ],
      "metadata": {
        "id": "9mKO_ToW8-o9"
      }
    },
    {
      "cell_type": "markdown",
      "source": [
        "### Solution"
      ],
      "metadata": {
        "id": "iC0GbassACtU"
      }
    },
    {
      "cell_type": "code",
      "source": [
        "Num_of_folds = 43\n",
        "THICKNESS = 0.00008\n",
        "foldedList = [0.00008,]\n",
        "for i in range(Num_of_folds):\n",
        "  THICKNESS  =  THICKNESS * 2\n",
        "  foldedList.append(THICKNESS)\n",
        "\n",
        "print(foldedList)\n",
        "print(len(foldedList))"
      ],
      "metadata": {
        "colab": {
          "base_uri": "https://localhost:8080/"
        },
        "id": "WEM59E2k9ZW9",
        "outputId": "b8004231-51b3-4dcd-95ac-cb256a98931f"
      },
      "execution_count": null,
      "outputs": [
        {
          "output_type": "stream",
          "name": "stdout",
          "text": [
            "[8e-05, 0.00016, 0.00032, 0.00064, 0.00128, 0.00256, 0.00512, 0.01024, 0.02048, 0.04096, 0.08192, 0.16384, 0.32768, 0.65536, 1.31072, 2.62144, 5.24288, 10.48576, 20.97152, 41.94304, 83.88608, 167.77216, 335.54432, 671.08864, 1342.17728, 2684.35456, 5368.70912, 10737.41824, 21474.83648, 42949.67296, 85899.34592, 171798.69184, 343597.38368, 687194.76736, 1374389.53472, 2748779.06944, 5497558.13888, 10995116.27776, 21990232.55552, 43980465.11104, 87960930.22208, 175921860.44416, 351843720.88832, 703687441.77664]\n",
            "44\n"
          ]
        }
      ]
    },
    {
      "cell_type": "code",
      "source": [
        "THICKNESS = 0.00008\n",
        "foldedList = [0.00008,]\n",
        "\n",
        "for i in range(43):\n",
        "  foldedList.append(THICKNESS * 2**i)\n",
        "\n",
        "print(foldedList)\n",
        "print(len(foldedList))"
      ],
      "metadata": {
        "colab": {
          "base_uri": "https://localhost:8080/"
        },
        "id": "HdOLcS47_OB6",
        "outputId": "04cf7e78-a8e6-4d0a-ee4d-8c07e3b452d0"
      },
      "execution_count": null,
      "outputs": [
        {
          "output_type": "stream",
          "name": "stdout",
          "text": [
            "[8e-05, 8e-05, 0.00016, 0.00032, 0.00064, 0.00128, 0.00256, 0.00512, 0.01024, 0.02048, 0.04096, 0.08192, 0.16384, 0.32768, 0.65536, 1.31072, 2.62144, 5.24288, 10.48576, 20.97152, 41.94304, 83.88608, 167.77216, 335.54432, 671.08864, 1342.17728, 2684.35456, 5368.70912, 10737.41824, 21474.83648, 42949.67296, 85899.34592, 171798.69184, 343597.38368, 687194.76736, 1374389.53472, 2748779.06944, 5497558.13888, 10995116.27776, 21990232.55552, 43980465.11104, 87960930.22208, 175921860.44416, 351843720.88832]\n",
            "44\n"
          ]
        }
      ]
    },
    {
      "cell_type": "markdown",
      "source": [
        "### [Problem 6] Displaying a line graph\n"
      ],
      "metadata": {
        "id": "1B3_xWqxCd8u"
      }
    },
    {
      "cell_type": "markdown",
      "source": [
        "A library called Matplotlib is used to draw the graph. Use the following template after the code you want to record in the list.\n",
        "\n",
        "**《Model》**"
      ],
      "metadata": {
        "id": "F5ZkGZPeCioP"
      }
    },
    {
      "cell_type": "code",
      "source": [
        "import matplotlib.pyplot as plt\n",
        "%matplotlib inline\n",
        "\n",
        "# Display the graph. Title and axis label name.\n",
        "plt.title(\"thickness of folded paper\")\n",
        "plt.xlabel(\"number of folds\")\n",
        "plt.ylabel(\"thickness [m]\")\n",
        "plt.plot(List_name)  # Enter the variable name of the list in \"List name\"\n",
        "plt.show()"
      ],
      "metadata": {
        "id": "EtVkklpACose"
      },
      "execution_count": null,
      "outputs": []
    },
    {
      "cell_type": "markdown",
      "source": [
        "### Solution"
      ],
      "metadata": {
        "id": "5Bl79_TLC8MA"
      }
    },
    {
      "cell_type": "code",
      "source": [
        "import matplotlib.pyplot as plt\n",
        "%matplotlib inline\n",
        "\n",
        "# Display the graph. Title and axis label name.\n",
        "plt.title(\"thickness of folded paper\")\n",
        "plt.xlabel(\"number of folds\")\n",
        "plt.ylabel(\"thickness [m]\")\n",
        "plt.plot(foldedList)  # Enter the variable name of the list in \"List name\"\n",
        "plt.show()"
      ],
      "metadata": {
        "colab": {
          "base_uri": "https://localhost:8080/"
        },
        "id": "0h_GQBUsC3V_",
        "outputId": "85d66356-ab27-47aa-ae67-a22c46467102"
      },
      "execution_count": null,
      "outputs": [
        {
          "output_type": "display_data",
          "data": {
            "text/plain": [
              "<Figure size 432x288 with 1 Axes>"
            ],
            "image/png": "[encoded data removed]"
          },
          "metadata": {
            "needs_background": "light"
          }
        }
      ]
    },
    {
      "cell_type": "markdown",
      "source": [
        "### [Problem 7] Customizing graphs\n"
      ],
      "metadata": {
        "id": "O95FZppZRj2N"
      }
    },
    {
      "cell_type": "markdown",
      "source": [
        "Let's customize the graph to make it easier to see. Create at least 3 customized graphs. For example, the line color can be changed to red by rewriting as follows.\n",
        "\n",
        "**《sample code》**"
      ],
      "metadata": {
        "id": "qPf5no-sR6TZ"
      }
    },
    {
      "cell_type": "code",
      "source": [
        "# Display a red line graph.\n",
        "plt.title(\"thickness of folded paper\")\n",
        "plt.xlabel(\"number of folds\")\n",
        "plt.ylabel(\"thickness [m]\")\n",
        "plt.plot('List name', color='red')\n",
        "plt.show()"
      ],
      "metadata": {
        "id": "Fujjyip_aYcO"
      },
      "execution_count": null,
      "outputs": []
    },
    {
      "cell_type": "markdown",
      "source": [
        "Please refer to the official Matplotlib documentation to see what you can do.\n",
        "\n",
        "[matplotlib.pyplot.plot --Matplotlib documentation](https://matplotlib.org/stable/api/_as_gen/matplotlib.pyplot.plot.html)\n",
        "\n"
      ],
      "metadata": {
        "id": "9Uy_8bLbWZcG"
      }
    },
    {
      "cell_type": "markdown",
      "source": [
        "### Solution"
      ],
      "metadata": {
        "id": "_cqoUzekSbS-"
      }
    },
    {
      "cell_type": "code",
      "source": [
        "# Display a red line graph.\n",
        "plt.title(\"thickness of folded paper\")\n",
        "plt.xlabel(\"number of folds\")\n",
        "plt.ylabel(\"thickness [m]\")\n",
        "plt.plot(foldedList, color='red', marker='o', linestyle='dashed')\n",
        "plt.show()"
      ],
      "metadata": {
        "colab": {
          "base_uri": "https://localhost:8080/",
          "height": 295
        },
        "id": "9E5Gj7aeShGS",
        "outputId": "aaa9df90-d126-465d-ff23-0f16f62bdab6"
      },
      "execution_count": null,
      "outputs": [
        {
          "output_type": "display_data",
          "data": {
            "text/plain": [
              "<Figure size 432x288 with 1 Axes>"
            ],
            "image/png": "[encoded data removed]"
          },
          "metadata": {
            "needs_background": "light"
          }
        }
      ]
    },
    {
      "cell_type": "code",
      "source": [
        "# Display a red line graph.\n",
        "plt.title(\"thickness of folded paper\")\n",
        "plt.xlabel(\"number of folds\")\n",
        "plt.ylabel(\"thickness [m]\")\n",
        "plt.plot(foldedList, 'g^--', linewidth=2, markersize=12)\n",
        "plt.show()"
      ],
      "metadata": {
        "colab": {
          "base_uri": "https://localhost:8080/",
          "height": 295
        },
        "id": "SPSe0p0VWbib",
        "outputId": "a38b702f-88ee-4d45-8cee-08dd960c5074"
      },
      "execution_count": null,
      "outputs": [
        {
          "output_type": "display_data",
          "data": {
            "text/plain": [
              "<Figure size 432x288 with 1 Axes>"
            ],
            "image/png": "[encoded data removed]"
          },
          "metadata": {
            "needs_background": "light"
          }
        }
      ]
    },
    {
      "cell_type": "code",
      "source": [
        "# Display a red line graph.\n",
        "plt.title(\"thickness of folded paper\")\n",
        "plt.xlabel(\"number of folds\")\n",
        "plt.ylabel(\"thickness [m]\")\n",
        "plt.plot(foldedList, color='blue', marker='*', linestyle='dashed',\n",
        "     linewidth=2, markersize=12)\n",
        "plt.show()"
      ],
      "metadata": {
        "colab": {
          "base_uri": "https://localhost:8080/",
          "height": 295
        },
        "id": "sHtzpxFQW9q_",
        "outputId": "01ea04f1-ac2c-491c-f4a3-6b848bf381b3"
      },
      "execution_count": null,
      "outputs": [
        {
          "output_type": "display_data",
          "data": {
            "text/plain": [
              "<Figure size 432x288 with 1 Axes>"
            ],
            "image/png": "[encoded data removed]"
          },
          "metadata": {
            "needs_background": "light"
          }
        }
      ]
    },
    {
      "cell_type": "markdown",
      "source": [
        "### **<< Customization example >>**"
      ],
      "metadata": {
        "id": "rHd2u5x3hWn8"
      }
    },
    {
      "cell_type": "markdown",
      "source": [
        "\n",
        "\n",
        "* Make the line color other than blue and red.\n",
        "* Make the line thicker.\n",
        "* Make the line dotted.\n",
        "* Change the font size of the value.\n",
        "\n",
        "\n",
        "**《sample code》**"
      ],
      "metadata": {
        "id": "eHS5FnuUceY8"
      }
    },
    {
      "cell_type": "code",
      "source": [
        "# Display the axis value in large size.\n",
        "plt.title(\"thickness of folded paper\")\n",
        "plt.xlabel(\"number of folds\")\n",
        "plt.ylabel(\"thickness[m]\")\n",
        "plt.tick_params(labelsize=20) # Make settings related to axis values\n",
        "plt.plot(List name)\n",
        "plt.show()"
      ],
      "metadata": {
        "id": "gqTHh1kkbAZq"
      },
      "execution_count": null,
      "outputs": []
    },
    {
      "cell_type": "markdown",
      "source": [
        "The **plt.tick_params ()** is explained in the following page.\n",
        "\n",
        "[matplotlib.pyplot.tick_params --Matplotlib documentation](https://matplotlib.org/stable/api/_as_gen/matplotlib.pyplot.tick_params.html)\n",
        "\n",
        "Explore different customization methods to create easy-to-read graphs.\n",
        "\n",
        "Please submit the answer to this assignment an easy-to-read manner."
      ],
      "metadata": {
        "id": "sLK5sKXkZh79"
      }
    },
    {
      "cell_type": "markdown",
      "source": [
        "### Solution"
      ],
      "metadata": {
        "id": "_z0tibexY96i"
      }
    },
    {
      "cell_type": "code",
      "source": [
        "# Display the axis value in large size.\n",
        "plt.title(\"thickness of folded paper\")\n",
        "plt.xlabel(\"number of folds\")\n",
        "plt.ylabel(\"thickness[m]\")\n",
        "plt.tick_params(grid_linewidth=120, length=6, width=5, colors='purple',\n",
        "               grid_color='b', grid_marker='*') # Make settings related to axis values\n",
        "plt.plot(foldedList, '-o')\n",
        "plt.show()"
      ],
      "metadata": {
        "colab": {
          "base_uri": "https://localhost:8080/",
          "height": 298
        },
        "id": "qMLo0_puY5H_",
        "outputId": "99eb4c0b-1e22-4bf3-8ea1-b731d2ba8cfb"
      },
      "execution_count": null,
      "outputs": [
        {
          "output_type": "display_data",
          "data": {
            "text/plain": [
              "<Figure size 432x288 with 1 Axes>"
            ],
            "image/png": "[encoded data removed]"
          },
          "metadata": {
            "needs_background": "light"
          }
        }
      ]
    },
    {
      "cell_type": "code",
      "source": [
        "# Display the axis value in large size.\n",
        "plt.title(\"thickness of folded paper\")\n",
        "plt.xlabel(\"number of folds\")\n",
        "plt.ylabel(\"thickness[m]\")\n",
        "plt.tick_params(grid_linewidth=120, grid_linestyle, width=5, colors='purple',\n",
        "               grid_color='b', grid_marker='*') # Make settings related to axis values\n",
        "plt.plot(foldedList)\n",
        "plt.show()"
      ],
      "metadata": {
        "id": "FZK4pSSl20Lt"
      },
      "execution_count": null,
      "outputs": []
    },
    {
      "cell_type": "markdown",
      "source": [
        " valid keywords are ['size', 'width', 'color', 'tickdir', 'pad', 'labelsize', 'labelcolor', 'zorder', 'gridOn', 'tick1On', 'tick2On', 'label1On', 'label2On', 'length', 'direction', 'left', 'bottom', 'right', 'top', 'labelleft', 'labelbottom', 'labelright', 'labeltop', 'labelrotation', 'grid_agg_filter', 'grid_alpha', 'grid_animated', 'grid_antialiased', 'grid_clip_box', 'grid_clip_on', 'grid_clip_path', 'grid_color', 'grid_contains', 'grid_dash_capstyle', 'grid_dash_joinstyle', 'grid_dashes', 'grid_data', 'grid_drawstyle', 'grid_figure', 'grid_fillstyle', 'grid_gid', 'grid_in_layout', 'grid_label', 'grid_linestyle', 'grid_linewidth', 'grid_marker', 'grid_markeredgecolor', 'grid_markeredgewidth', 'grid_markerfacecolor', 'grid_markerfacecoloralt', 'grid_markersize', 'grid_markevery', 'grid_path_effects', 'grid_picker', 'grid_pickradius', 'grid_rasterized', 'grid_sketch_params', 'grid_snap', 'grid_solid_capstyle', 'grid_solid_joinstyle', 'grid_transform', 'grid_url', 'grid_visible', 'grid_xdata', 'grid_ydata', 'grid_zorder', 'grid_aa', 'grid_c', 'grid_ds', 'grid_ls', 'grid_lw', 'grid_mec', 'grid_mew', 'grid_mfc', 'grid_mfcalt', 'grid_ms']"
      ],
      "metadata": {
        "id": "PSdBJVtd1NEs"
      }
    },
    {
      "cell_type": "markdown",
      "source": [],
      "metadata": {
        "id": "qSui77WKAgNC"
      }
    },
    {
      "cell_type": "markdown",
      "source": [
        "# Sorori Shinzaemon problem"
      ],
      "metadata": {
        "id": "SHWwnzEjAgqI"
      }
    },
    {
      "cell_type": "markdown",
      "source": [
        "The story about Soro Shinzaemon is similar to the story about folding a piece of paper to reach the moon. We will proceed with programming based on this."
      ],
      "metadata": {
        "id": "scU3vEpjByMe"
      }
    },
    {
      "cell_type": "markdown",
      "source": [
        "### 【Problem 1] Number of grains of rice on the 100th day\n"
      ],
      "metadata": {
        "id": "-0T69JtoAg_M"
      }
    },
    {
      "cell_type": "markdown",
      "source": [
        "Create a code to calculate how many grains of rice you receive in total on the 100th day, and output the answer. Also, use a line graph to represent the change in the number of rice grains you receive on that day and the total number of rice grains you receive by that day from day 1 to day 100. (The vertical axis is the number of rice and the horizontal axis is the number of days)\n"
      ],
      "metadata": {
        "id": "FwzPaQHgEovs"
      }
    },
    {
      "cell_type": "markdown",
      "source": [
        "### Solution"
      ],
      "metadata": {
        "id": "f_U4g5v3GkAf"
      }
    },
    {
      "cell_type": "code",
      "source": [
        "total_grains = 1\n",
        "grain_list = []\n",
        "for i in range(1, 20 +1):\n",
        "  print(i, total_grains)\n",
        "  grain_list.append(total_grains)\n",
        "  total_grains *= 2\n",
        "  \n"
      ],
      "metadata": {
        "id": "gUmeykaKGoEH",
        "colab": {
          "base_uri": "https://localhost:8080/"
        },
        "outputId": "76b3cf6b-8345-48fe-c738-75c363f86471"
      },
      "execution_count": null,
      "outputs": [
        {
          "output_type": "stream",
          "name": "stdout",
          "text": [
            "1 1\n",
            "2 2\n",
            "3 4\n",
            "4 8\n",
            "5 16\n",
            "6 32\n",
            "7 64\n",
            "8 128\n",
            "9 256\n",
            "10 512\n",
            "11 1024\n",
            "12 2048\n",
            "13 4096\n",
            "14 8192\n",
            "15 16384\n",
            "16 32768\n",
            "17 65536\n",
            "18 131072\n",
            "19 262144\n",
            "20 524288\n"
          ]
        }
      ]
    },
    {
      "cell_type": "code",
      "source": [
        "print(grain_list[-1])"
      ],
      "metadata": {
        "colab": {
          "base_uri": "https://localhost:8080/"
        },
        "id": "QhbE8S8HQxjN",
        "outputId": "37292035-4ce4-4f45-d7cd-c5a850a7bdfc"
      },
      "execution_count": null,
      "outputs": [
        {
          "output_type": "stream",
          "name": "stdout",
          "text": [
            "524288\n"
          ]
        }
      ]
    },
    {
      "cell_type": "code",
      "source": [
        "import matplotlib.pyplot as plt\n",
        "#%matplotlib inline\n",
        "\n",
        "plt.title(\"Rice grains\")\n",
        "plt.xlabel(\"number of days\")\n",
        "plt.ylabel(\"Grains[M]\")\n",
        "plt.tick_params(labelsize=10)\n",
        "plt.plot(grain_list)\n",
        "plt.show()"
      ],
      "metadata": {
        "id": "1wi1vnfNUjES",
        "colab": {
          "base_uri": "https://localhost:8080/",
          "height": 295
        },
        "outputId": "c3c71443-397d-4c79-e87a-9e8ef39b929c"
      },
      "execution_count": null,
      "outputs": [
        {
          "output_type": "display_data",
          "data": {
            "text/plain": [
              "<Figure size 432x288 with 1 Axes>"
            ],
            "image/png": "[encoded data removed]"
          },
          "metadata": {
            "needs_background": "light"
          }
        }
      ]
    },
    {
      "cell_type": "markdown",
      "source": [
        "### 【Problem 2] Number of rice grains outside of the 100th day\n"
      ],
      "metadata": {
        "id": "fIz1N12jEszP"
      }
    },
    {
      "cell_type": "markdown",
      "source": [
        "The number of days in this anecdote is ambiguous, such as 30 days or 81 days. Let's create a function that takes days as an argument so that it can handle any story. After creating the function, please answer how many rice grains you will receive in the number of days you take the course. Please output the line graph as well as problem 1.\n",
        "\n",
        "The following template contains not only the framework as a function, but also comments on arguments and return values. Please refer to it and rewrite the comments in a way that is easy for you to understand.\n",
        "\n",
        "**《Model》**"
      ],
      "metadata": {
        "id": "HO3u_TPBEvY-"
      }
    },
    {
      "cell_type": "code",
      "source": [
        "def compute_sorori_shinzaemon(n_days=100):\n",
        "    \"\"\"A function that calculates the number of rice grains per day in the rice anecdote of Shinzaemon Sorori.\n",
        "\n",
        "    Parameteres\n",
        "    -----------\n",
        "    n_days: int\n",
        "        Number of days to get rice (default : 100)\n",
        "\n",
        "    Returns\n",
        "    -------\n",
        "    list_n_grains : list\n",
        "        List of the number of rice you get one day (list length equals n_days)\n",
        "    list_total_grains : list\n",
        "        List of total number of rice received by a certain day (list length is equal to n_days)\n",
        "    \"\"\"\n",
        "\n",
        "    # Write the code here. pass is an instruction that means do nothing.\n",
        "    list_n_grains = []\n",
        "    for i in range(n_days):\n",
        "      \n",
        "      return list_n_grains, list_total_grains\n",
        "\n",
        "list_n_grains, list_total_grains = compute_sorori_shinzaemon(n_days=10)"
      ],
      "metadata": {
        "id": "h6G3f43NE3ND"
      },
      "execution_count": null,
      "outputs": []
    },
    {
      "cell_type": "code",
      "source": [
        "#Create a function\n",
        "def compute_sorori_shinzaemon(day=100):\n",
        "    #List containing number of days\n",
        "    list_n_grains1 = [(lambda x: x)(x) for x in range(1, day + 1)]\n",
        "    \n",
        "    #This list show the total number of rice receive per day\n",
        "    list_total_grains1 = [2**x-1 for x in range(1, day + 1) ]\n",
        "    pass\n",
        "    return list_n_grains1, list_total_grains1\n",
        "\"\"\"\"\n",
        "The function to calculate the amount of rice a person can get\n",
        "for the number of days he/she has taken the course.\n",
        "It also take input from users.\n",
        "\"\"\"\n",
        "list_n_grains1, list_total_grains1 = compute_sorori_shinzaemon(int(input(\"Days amount Entered: \")))\n",
        "#index function to call the total amount\n",
        "print(\"days: {}\".format(list_n_grains1[-1]))\n",
        "#index function to call the total amount\n",
        "print(\"grains: {}\".format(list_total_grains1[-1]))"
      ],
      "metadata": {
        "colab": {
          "base_uri": "https://localhost:8080/"
        },
        "id": "vLl-TeOjXAiG",
        "outputId": "c5ebdcbf-8928-43b8-f944-347eaee4c710"
      },
      "execution_count": null,
      "outputs": [
        {
          "output_type": "stream",
          "name": "stdout",
          "text": [
            "Days amount Entered: 5\n",
            "days: 5\n",
            "grains: 31\n"
          ]
        }
      ]
    }
  ]
}